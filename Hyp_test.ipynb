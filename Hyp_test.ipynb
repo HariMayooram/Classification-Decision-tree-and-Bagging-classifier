{
 "cells": [
  {
   "cell_type": "markdown",
   "metadata": {},
   "source": [
    "From the accuracy values which were obtained in cross validation for decision tree model and the bagging decision tree model. Based on them, the accuracy values shown below are assigned. \n",
    "Performing T-Test,where T-values have to be obtained in order to determine the closeness of the models.So to compare them, t-test values have to be compared with the confidence limit. The condition is such that if, t < z or t > -z then, this means that the value of t lies in the rejection region and hence it can be said that the null hypothesis is rejected.  "
   ]
  },
  {
   "cell_type": "code",
   "execution_count": 11,
   "metadata": {},
   "outputs": [],
   "source": [
    "DT_Accu=[0.71150834, 0.71444863, 0.71330226, 0.7146413,  0.71490815 ,0.71192085,\n",
    " 0.71440134, 0.71499929, 0.71383468, 0.71420376]"
   ]
  },
  {
   "cell_type": "code",
   "execution_count": 12,
   "metadata": {},
   "outputs": [],
   "source": [
    "BC_Accu=[0.77448627, 0.77520834, 0.77429135, 0.77413894, 0.77539548, 0.7743107,\n",
    " 0.77411435, 0.7758724,  0.77550657, 0.77470254]"
   ]
  },
  {
   "cell_type": "code",
   "execution_count": 13,
   "metadata": {},
   "outputs": [],
   "source": [
    "DT_Selected_Accu=[0.7130373,  0.71437498, 0.71345904, 0.714517,   0.7140706,  0.71300862,\n",
    " 0.71391235, 0.71436875, 0.71436542, 0.712718  ]"
   ]
  },
  {
   "cell_type": "code",
   "execution_count": 14,
   "metadata": {},
   "outputs": [],
   "source": [
    "BC_Selected_Accu=[0.77346822, 0.77561176, 0.77382263, 0.77446396, 0.7749403,  0.7749347,\n",
    " 0.77376141, 0.77526687, 0.77551172, 0.77424841]"
   ]
  },
  {
   "cell_type": "markdown",
   "metadata": {},
   "source": [
    "In order to calculate the error the formula used is-\n",
    "error = 1-accuracy"
   ]
  },
  {
   "cell_type": "code",
   "execution_count": 15,
   "metadata": {},
   "outputs": [],
   "source": [
    "err1=[1-a for a in DT_Accu]\n",
    "err2=[1-a for a in BC_Accu]\n",
    "err3=[1-a for a in DT_Selected_Accu]\n",
    "err4=[1-a for a in BC_Selected_Accu]"
   ]
  },
  {
   "cell_type": "code",
   "execution_count": 16,
   "metadata": {},
   "outputs": [
    {
     "name": "stdout",
     "output_type": "stream",
     "text": [
      "[0.28849166000000004, 0.28555136999999997, 0.28669774000000003, 0.28535869999999997, 0.28509185000000004, 0.28807914999999995, 0.28559866, 0.28500071000000005, 0.28616531999999995, 0.28579624000000003]\n",
      "[0.22551372999999997, 0.22479165999999995, 0.22570864999999996, 0.22586105999999995, 0.22460451999999997, 0.22568929999999998, 0.22588565000000005, 0.22412759999999998, 0.22449343, 0.22529745999999995]\n",
      "[0.2869627, 0.28562502, 0.28654095999999996, 0.28548300000000004, 0.2859294, 0.28699138, 0.28608765, 0.28563125, 0.28563457999999997, 0.28728200000000004]\n",
      "[0.22653177999999996, 0.22438824000000002, 0.22617737000000004, 0.22553604000000005, 0.22505969999999997, 0.22506530000000002, 0.22623859000000002, 0.22473312999999995, 0.22448827999999998, 0.22575159]\n"
     ]
    }
   ],
   "source": [
    "print(err1)\n",
    "print(err2)\n",
    "print(err3)\n",
    "print(err4)"
   ]
  },
  {
   "cell_type": "code",
   "execution_count": 17,
   "metadata": {},
   "outputs": [],
   "source": [
    "from scipy import stats"
   ]
  },
  {
   "cell_type": "code",
   "execution_count": 18,
   "metadata": {},
   "outputs": [],
   "source": [
    "u1=stats.ttest_rel(err1,err2)"
   ]
  },
  {
   "cell_type": "code",
   "execution_count": 19,
   "metadata": {},
   "outputs": [],
   "source": [
    "u2=stats.ttest_rel(err1,err3)"
   ]
  },
  {
   "cell_type": "code",
   "execution_count": 20,
   "metadata": {},
   "outputs": [],
   "source": [
    "u3=stats.ttest_rel(err1,err4)"
   ]
  },
  {
   "cell_type": "code",
   "execution_count": 21,
   "metadata": {},
   "outputs": [],
   "source": [
    "u4=stats.ttest_rel(err2,err3)"
   ]
  },
  {
   "cell_type": "code",
   "execution_count": 22,
   "metadata": {},
   "outputs": [],
   "source": [
    "u5=stats.ttest_rel(err2,err4)"
   ]
  },
  {
   "cell_type": "code",
   "execution_count": 23,
   "metadata": {},
   "outputs": [],
   "source": [
    "u6=stats.ttest_rel(err3,err4)"
   ]
  },
  {
   "cell_type": "markdown",
   "metadata": {},
   "source": [
    "This compares them and gives the required result as shown above and below"
   ]
  },
  {
   "cell_type": "code",
   "execution_count": 24,
   "metadata": {},
   "outputs": [
    {
     "name": "stdout",
     "output_type": "stream",
     "text": [
      "Ttest_relResult(statistic=176.09366458070136, pvalue=3.123644977118415e-17)\n",
      "Ttest_relResult(statistic=-0.11750543642591563, pvalue=0.9090401095235014)\n",
      "Ttest_relResult(statistic=168.61925720894578, pvalue=4.614705486690977e-17)\n",
      "Ttest_relResult(statistic=-281.4877498491282, pvalue=4.587050748495944e-19)\n",
      "Ttest_relResult(statistic=-1.2178739793677618, pvalue=0.25423643666149415)\n",
      "Ttest_relResult(statistic=285.6000804825084, pvalue=4.0257785283010007e-19)\n"
     ]
    }
   ],
   "source": [
    "print(u1)\n",
    "print(u2)\n",
    "print(u3)\n",
    "print(u4)\n",
    "print(u5)\n",
    "print(u6)"
   ]
  },
  {
   "cell_type": "markdown",
   "metadata": {},
   "source": [
    "now, we know that degree of freedom is k-1 and k=10 as nfolds=10\n",
    "also, z can be calculated as significance level/2 and degree of freedom and we obtain it as z=2.26"
   ]
  },
  {
   "cell_type": "markdown",
   "metadata": {},
   "source": [
    "Performing null hypothesis for both the models\n",
    "1st case: u1=>176.0936 >2.26\n",
    "hence, null hypothesis is rejected. this would mean that the decision tree model is different from the bagging decision model, statistically."
   ]
  },
  {
   "cell_type": "markdown",
   "metadata": {},
   "source": [
    "2nd case: u2=> -0.117>-2.26\n",
    "hence, null hypothesis is not rejected. this would mean that the decision tree model is from the bagging decision model, statistically."
   ]
  },
  {
   "cell_type": "markdown",
   "metadata": {},
   "source": [
    "3rd case: u3=> 168.619>2.26\n",
    "hence, null hypothesis is rejected. this would mean that the decision tree model is different from the bagging decision model, statistically."
   ]
  },
  {
   "cell_type": "markdown",
   "metadata": {},
   "source": [
    "4th case: u4=> -281.48<-2.26\n",
    "hence, null hypothesis is rejected. this would mean that the decision tree model is different from the bagging decision model, statistically."
   ]
  },
  {
   "cell_type": "markdown",
   "metadata": {},
   "source": [
    "5th case: u5=> -1.21>-2.26\n",
    "hence, null hypothesis is not rejected. this would mean that the decision tree model is from the bagging decision model, statistically."
   ]
  },
  {
   "cell_type": "markdown",
   "metadata": {},
   "source": [
    "6th case: u6=> 285.6>2.26\n",
    "hence, null hypothesis is rejected. this would mean that the decision tree model is different from the bagging decision model, statistically."
   ]
  },
  {
   "cell_type": "code",
   "execution_count": null,
   "metadata": {},
   "outputs": [],
   "source": []
  }
 ],
 "metadata": {
  "kernelspec": {
   "display_name": "Python 3",
   "language": "python",
   "name": "python3"
  },
  "language_info": {
   "codemirror_mode": {
    "name": "ipython",
    "version": 3
   },
   "file_extension": ".py",
   "mimetype": "text/x-python",
   "name": "python",
   "nbconvert_exporter": "python",
   "pygments_lexer": "ipython3",
   "version": "3.7.4"
  }
 },
 "nbformat": 4,
 "nbformat_minor": 2
}
