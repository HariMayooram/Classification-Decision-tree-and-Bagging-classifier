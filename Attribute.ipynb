{
 "cells": [
  {
   "cell_type": "code",
   "execution_count": 1,
   "metadata": {},
   "outputs": [],
   "source": [
    "import pandas as pd\n",
    "import numpy as np\n",
    "import seaborn as sns\n",
    "import scipy\n",
    "import matplotlib.pyplot as plt\n",
    "import h5py\n",
    "import itertools  \n",
    "import time"
   ]
  },
  {
   "cell_type": "markdown",
   "metadata": {},
   "source": [
    "All the required ones such as pandas, numpy,seaborn,spicy,matplotlib,h5py,itertools and time are imported. each of them have thier own useage in the task performed below. "
   ]
  },
  {
   "cell_type": "code",
   "execution_count": 2,
   "metadata": {},
   "outputs": [],
   "source": [
    "url='https://archive.ics.uci.edu/ml/machine-learning-databases/00279/SUSY.csv.gz'"
   ]
  },
  {
   "cell_type": "markdown",
   "metadata": {},
   "source": [
    "Using the url, the required dataset can be accessed easily."
   ]
  },
  {
   "cell_type": "code",
   "execution_count": 3,
   "metadata": {},
   "outputs": [],
   "source": [
    "dataf_susy=pd.read_csv(url,header=None,index_col=False)"
   ]
  },
  {
   "cell_type": "markdown",
   "metadata": {},
   "source": [
    "A csv file can be read locally or read_csv can be used to read a csv file using an URL. The parameters used in read_csv are 'url', 'header' and 'index_col'. 'url' is used to access the particular url which was run before.'header' is used to pass the row or list as header. 'index_col' is used to pass the column as index instead of 0 to r     "
   ]
  },
  {
   "cell_type": "code",
   "execution_count": 4,
   "metadata": {},
   "outputs": [
    {
     "data": {
      "text/html": [
       "<div>\n",
       "<style scoped>\n",
       "    .dataframe tbody tr th:only-of-type {\n",
       "        vertical-align: middle;\n",
       "    }\n",
       "\n",
       "    .dataframe tbody tr th {\n",
       "        vertical-align: top;\n",
       "    }\n",
       "\n",
       "    .dataframe thead th {\n",
       "        text-align: right;\n",
       "    }\n",
       "</style>\n",
       "<table border=\"1\" class=\"dataframe\">\n",
       "  <thead>\n",
       "    <tr style=\"text-align: right;\">\n",
       "      <th></th>\n",
       "      <th>0</th>\n",
       "      <th>1</th>\n",
       "      <th>2</th>\n",
       "      <th>3</th>\n",
       "      <th>4</th>\n",
       "      <th>5</th>\n",
       "      <th>6</th>\n",
       "      <th>7</th>\n",
       "      <th>8</th>\n",
       "      <th>9</th>\n",
       "      <th>10</th>\n",
       "      <th>11</th>\n",
       "      <th>12</th>\n",
       "      <th>13</th>\n",
       "      <th>14</th>\n",
       "      <th>15</th>\n",
       "      <th>16</th>\n",
       "      <th>17</th>\n",
       "      <th>18</th>\n",
       "    </tr>\n",
       "  </thead>\n",
       "  <tbody>\n",
       "    <tr>\n",
       "      <td>0</td>\n",
       "      <td>0.0</td>\n",
       "      <td>0.972861</td>\n",
       "      <td>0.653855</td>\n",
       "      <td>1.176225</td>\n",
       "      <td>1.157156</td>\n",
       "      <td>-1.739873</td>\n",
       "      <td>-0.874309</td>\n",
       "      <td>0.567765</td>\n",
       "      <td>-0.175000</td>\n",
       "      <td>0.810061</td>\n",
       "      <td>-0.252552</td>\n",
       "      <td>1.921887</td>\n",
       "      <td>0.889637</td>\n",
       "      <td>0.410772</td>\n",
       "      <td>1.145621</td>\n",
       "      <td>1.932632</td>\n",
       "      <td>0.994464</td>\n",
       "      <td>1.367815</td>\n",
       "      <td>0.040714</td>\n",
       "    </tr>\n",
       "    <tr>\n",
       "      <td>1</td>\n",
       "      <td>1.0</td>\n",
       "      <td>1.667973</td>\n",
       "      <td>0.064191</td>\n",
       "      <td>-1.225171</td>\n",
       "      <td>0.506102</td>\n",
       "      <td>-0.338939</td>\n",
       "      <td>1.672543</td>\n",
       "      <td>3.475464</td>\n",
       "      <td>-1.219136</td>\n",
       "      <td>0.012955</td>\n",
       "      <td>3.775174</td>\n",
       "      <td>1.045977</td>\n",
       "      <td>0.568051</td>\n",
       "      <td>0.481928</td>\n",
       "      <td>0.000000</td>\n",
       "      <td>0.448410</td>\n",
       "      <td>0.205356</td>\n",
       "      <td>1.321893</td>\n",
       "      <td>0.377584</td>\n",
       "    </tr>\n",
       "    <tr>\n",
       "      <td>2</td>\n",
       "      <td>1.0</td>\n",
       "      <td>0.444840</td>\n",
       "      <td>-0.134298</td>\n",
       "      <td>-0.709972</td>\n",
       "      <td>0.451719</td>\n",
       "      <td>-1.613871</td>\n",
       "      <td>-0.768661</td>\n",
       "      <td>1.219918</td>\n",
       "      <td>0.504026</td>\n",
       "      <td>1.831248</td>\n",
       "      <td>-0.431385</td>\n",
       "      <td>0.526283</td>\n",
       "      <td>0.941514</td>\n",
       "      <td>1.587535</td>\n",
       "      <td>2.024308</td>\n",
       "      <td>0.603498</td>\n",
       "      <td>1.562374</td>\n",
       "      <td>1.135454</td>\n",
       "      <td>0.180910</td>\n",
       "    </tr>\n",
       "    <tr>\n",
       "      <td>3</td>\n",
       "      <td>1.0</td>\n",
       "      <td>0.381256</td>\n",
       "      <td>-0.976145</td>\n",
       "      <td>0.693152</td>\n",
       "      <td>0.448959</td>\n",
       "      <td>0.891753</td>\n",
       "      <td>-0.677328</td>\n",
       "      <td>2.033060</td>\n",
       "      <td>1.533041</td>\n",
       "      <td>3.046260</td>\n",
       "      <td>-1.005285</td>\n",
       "      <td>0.569386</td>\n",
       "      <td>1.015211</td>\n",
       "      <td>1.582217</td>\n",
       "      <td>1.551914</td>\n",
       "      <td>0.761215</td>\n",
       "      <td>1.715464</td>\n",
       "      <td>1.492257</td>\n",
       "      <td>0.090719</td>\n",
       "    </tr>\n",
       "    <tr>\n",
       "      <td>4</td>\n",
       "      <td>1.0</td>\n",
       "      <td>1.309996</td>\n",
       "      <td>-0.690089</td>\n",
       "      <td>-0.676259</td>\n",
       "      <td>1.589283</td>\n",
       "      <td>-0.693326</td>\n",
       "      <td>0.622907</td>\n",
       "      <td>1.087562</td>\n",
       "      <td>-0.381742</td>\n",
       "      <td>0.589204</td>\n",
       "      <td>1.365479</td>\n",
       "      <td>1.179295</td>\n",
       "      <td>0.968218</td>\n",
       "      <td>0.728563</td>\n",
       "      <td>0.000000</td>\n",
       "      <td>1.083158</td>\n",
       "      <td>0.043429</td>\n",
       "      <td>1.154854</td>\n",
       "      <td>0.094859</td>\n",
       "    </tr>\n",
       "  </tbody>\n",
       "</table>\n",
       "</div>"
      ],
      "text/plain": [
       "    0         1         2         3         4         5         6         7   \\\n",
       "0  0.0  0.972861  0.653855  1.176225  1.157156 -1.739873 -0.874309  0.567765   \n",
       "1  1.0  1.667973  0.064191 -1.225171  0.506102 -0.338939  1.672543  3.475464   \n",
       "2  1.0  0.444840 -0.134298 -0.709972  0.451719 -1.613871 -0.768661  1.219918   \n",
       "3  1.0  0.381256 -0.976145  0.693152  0.448959  0.891753 -0.677328  2.033060   \n",
       "4  1.0  1.309996 -0.690089 -0.676259  1.589283 -0.693326  0.622907  1.087562   \n",
       "\n",
       "         8         9         10        11        12        13        14  \\\n",
       "0 -0.175000  0.810061 -0.252552  1.921887  0.889637  0.410772  1.145621   \n",
       "1 -1.219136  0.012955  3.775174  1.045977  0.568051  0.481928  0.000000   \n",
       "2  0.504026  1.831248 -0.431385  0.526283  0.941514  1.587535  2.024308   \n",
       "3  1.533041  3.046260 -1.005285  0.569386  1.015211  1.582217  1.551914   \n",
       "4 -0.381742  0.589204  1.365479  1.179295  0.968218  0.728563  0.000000   \n",
       "\n",
       "         15        16        17        18  \n",
       "0  1.932632  0.994464  1.367815  0.040714  \n",
       "1  0.448410  0.205356  1.321893  0.377584  \n",
       "2  0.603498  1.562374  1.135454  0.180910  \n",
       "3  0.761215  1.715464  1.492257  0.090719  \n",
       "4  1.083158  0.043429  1.154854  0.094859  "
      ]
     },
     "execution_count": 4,
     "metadata": {},
     "output_type": "execute_result"
    }
   ],
   "source": [
    "dataf_susy.head()"
   ]
  },
  {
   "cell_type": "markdown",
   "metadata": {},
   "source": [
    "'head()' method is used to return top n rows of a data frame or series.It returns the output as shown above. "
   ]
  },
  {
   "cell_type": "code",
   "execution_count": 5,
   "metadata": {},
   "outputs": [
    {
     "data": {
      "text/html": [
       "<div>\n",
       "<style scoped>\n",
       "    .dataframe tbody tr th:only-of-type {\n",
       "        vertical-align: middle;\n",
       "    }\n",
       "\n",
       "    .dataframe tbody tr th {\n",
       "        vertical-align: top;\n",
       "    }\n",
       "\n",
       "    .dataframe thead th {\n",
       "        text-align: right;\n",
       "    }\n",
       "</style>\n",
       "<table border=\"1\" class=\"dataframe\">\n",
       "  <thead>\n",
       "    <tr style=\"text-align: right;\">\n",
       "      <th></th>\n",
       "      <th>0</th>\n",
       "      <th>1</th>\n",
       "      <th>2</th>\n",
       "      <th>3</th>\n",
       "      <th>4</th>\n",
       "      <th>5</th>\n",
       "      <th>6</th>\n",
       "      <th>7</th>\n",
       "      <th>8</th>\n",
       "      <th>9</th>\n",
       "      <th>10</th>\n",
       "      <th>11</th>\n",
       "      <th>12</th>\n",
       "      <th>13</th>\n",
       "      <th>14</th>\n",
       "      <th>15</th>\n",
       "      <th>16</th>\n",
       "      <th>17</th>\n",
       "      <th>18</th>\n",
       "    </tr>\n",
       "  </thead>\n",
       "  <tbody>\n",
       "    <tr>\n",
       "      <td>count</td>\n",
       "      <td>5.000000e+06</td>\n",
       "      <td>5.000000e+06</td>\n",
       "      <td>5.000000e+06</td>\n",
       "      <td>5.000000e+06</td>\n",
       "      <td>5.000000e+06</td>\n",
       "      <td>5.000000e+06</td>\n",
       "      <td>5.000000e+06</td>\n",
       "      <td>5.000000e+06</td>\n",
       "      <td>5.000000e+06</td>\n",
       "      <td>5.000000e+06</td>\n",
       "      <td>5.000000e+06</td>\n",
       "      <td>5.000000e+06</td>\n",
       "      <td>5.000000e+06</td>\n",
       "      <td>5.000000e+06</td>\n",
       "      <td>5.000000e+06</td>\n",
       "      <td>5.000000e+06</td>\n",
       "      <td>5.000000e+06</td>\n",
       "      <td>5.000000e+06</td>\n",
       "      <td>5.000000e+06</td>\n",
       "    </tr>\n",
       "    <tr>\n",
       "      <td>mean</td>\n",
       "      <td>4.575654e-01</td>\n",
       "      <td>1.000318e+00</td>\n",
       "      <td>2.192580e-05</td>\n",
       "      <td>-4.994657e-05</td>\n",
       "      <td>9.994304e-01</td>\n",
       "      <td>-3.713140e-05</td>\n",
       "      <td>-1.972243e-05</td>\n",
       "      <td>9.999744e-01</td>\n",
       "      <td>3.542352e-05</td>\n",
       "      <td>1.001437e+00</td>\n",
       "      <td>-4.878472e-05</td>\n",
       "      <td>1.000360e+00</td>\n",
       "      <td>9.999559e-01</td>\n",
       "      <td>9.999164e-01</td>\n",
       "      <td>1.000422e+00</td>\n",
       "      <td>1.000112e+00</td>\n",
       "      <td>1.000192e+00</td>\n",
       "      <td>9.994852e-01</td>\n",
       "      <td>2.249139e-01</td>\n",
       "    </tr>\n",
       "    <tr>\n",
       "      <td>std</td>\n",
       "      <td>4.981961e-01</td>\n",
       "      <td>6.873341e-01</td>\n",
       "      <td>1.003107e+00</td>\n",
       "      <td>1.001670e+00</td>\n",
       "      <td>6.542200e-01</td>\n",
       "      <td>1.002839e+00</td>\n",
       "      <td>1.001631e+00</td>\n",
       "      <td>8.728877e-01</td>\n",
       "      <td>1.001654e+00</td>\n",
       "      <td>8.901668e-01</td>\n",
       "      <td>1.001594e+00</td>\n",
       "      <td>6.288446e-01</td>\n",
       "      <td>5.841139e-01</td>\n",
       "      <td>4.708406e-01</td>\n",
       "      <td>8.592491e-01</td>\n",
       "      <td>6.207165e-01</td>\n",
       "      <td>6.237672e-01</td>\n",
       "      <td>4.360948e-01</td>\n",
       "      <td>1.969804e-01</td>\n",
       "    </tr>\n",
       "    <tr>\n",
       "      <td>min</td>\n",
       "      <td>0.000000e+00</td>\n",
       "      <td>2.548815e-01</td>\n",
       "      <td>-2.102927e+00</td>\n",
       "      <td>-1.734789e+00</td>\n",
       "      <td>4.285860e-01</td>\n",
       "      <td>-2.059306e+00</td>\n",
       "      <td>-1.734202e+00</td>\n",
       "      <td>2.598711e-04</td>\n",
       "      <td>-1.727117e+00</td>\n",
       "      <td>7.693475e-08</td>\n",
       "      <td>-1.671863e+01</td>\n",
       "      <td>2.673070e-01</td>\n",
       "      <td>1.041228e-03</td>\n",
       "      <td>2.048078e-03</td>\n",
       "      <td>0.000000e+00</td>\n",
       "      <td>2.734135e-02</td>\n",
       "      <td>4.452858e-03</td>\n",
       "      <td>3.211849e-07</td>\n",
       "      <td>4.172130e-08</td>\n",
       "    </tr>\n",
       "    <tr>\n",
       "      <td>25%</td>\n",
       "      <td>0.000000e+00</td>\n",
       "      <td>5.624837e-01</td>\n",
       "      <td>-7.573512e-01</td>\n",
       "      <td>-8.673567e-01</td>\n",
       "      <td>5.969881e-01</td>\n",
       "      <td>-7.695916e-01</td>\n",
       "      <td>-8.683741e-01</td>\n",
       "      <td>4.784546e-01</td>\n",
       "      <td>-8.661510e-01</td>\n",
       "      <td>3.691849e-01</td>\n",
       "      <td>-4.923983e-01</td>\n",
       "      <td>5.883287e-01</td>\n",
       "      <td>6.223411e-01</td>\n",
       "      <td>6.505438e-01</td>\n",
       "      <td>1.705215e-01</td>\n",
       "      <td>5.985209e-01</td>\n",
       "      <td>5.134394e-01</td>\n",
       "      <td>6.879128e-01</td>\n",
       "      <td>6.908188e-02</td>\n",
       "    </tr>\n",
       "    <tr>\n",
       "      <td>50%</td>\n",
       "      <td>0.000000e+00</td>\n",
       "      <td>7.915511e-01</td>\n",
       "      <td>1.342127e-04</td>\n",
       "      <td>-3.880155e-04</td>\n",
       "      <td>7.997993e-01</td>\n",
       "      <td>-3.793710e-04</td>\n",
       "      <td>2.006134e-04</td>\n",
       "      <td>7.738360e-01</td>\n",
       "      <td>-9.172642e-03</td>\n",
       "      <td>8.019273e-01</td>\n",
       "      <td>-8.037898e-02</td>\n",
       "      <td>8.286114e-01</td>\n",
       "      <td>8.781311e-01</td>\n",
       "      <td>9.344703e-01</td>\n",
       "      <td>9.018388e-01</td>\n",
       "      <td>8.355336e-01</td>\n",
       "      <td>9.142514e-01</td>\n",
       "      <td>1.094396e+00</td>\n",
       "      <td>1.672500e-01</td>\n",
       "    </tr>\n",
       "    <tr>\n",
       "      <td>75%</td>\n",
       "      <td>1.000000e+00</td>\n",
       "      <td>1.204413e+00</td>\n",
       "      <td>7.576486e-01</td>\n",
       "      <td>8.670981e-01</td>\n",
       "      <td>1.162353e+00</td>\n",
       "      <td>7.692296e-01</td>\n",
       "      <td>8.674778e-01</td>\n",
       "      <td>1.207444e+00</td>\n",
       "      <td>8.687620e-01</td>\n",
       "      <td>1.375392e+00</td>\n",
       "      <td>3.489009e-01</td>\n",
       "      <td>1.211083e+00</td>\n",
       "      <td>1.220313e+00</td>\n",
       "      <td>1.283522e+00</td>\n",
       "      <td>1.613231e+00</td>\n",
       "      <td>1.207994e+00</td>\n",
       "      <td>1.384583e+00</td>\n",
       "      <td>1.369183e+00</td>\n",
       "      <td>3.303652e-01</td>\n",
       "    </tr>\n",
       "    <tr>\n",
       "      <td>max</td>\n",
       "      <td>1.000000e+00</td>\n",
       "      <td>2.055345e+01</td>\n",
       "      <td>2.101605e+00</td>\n",
       "      <td>1.734839e+00</td>\n",
       "      <td>3.303562e+01</td>\n",
       "      <td>2.059721e+00</td>\n",
       "      <td>1.734686e+00</td>\n",
       "      <td>2.106888e+01</td>\n",
       "      <td>1.740689e+00</td>\n",
       "      <td>2.338644e+01</td>\n",
       "      <td>2.048790e+01</td>\n",
       "      <td>2.107572e+01</td>\n",
       "      <td>1.616682e+01</td>\n",
       "      <td>6.731210e+00</td>\n",
       "      <td>2.068624e+01</td>\n",
       "      <td>2.115226e+01</td>\n",
       "      <td>1.561370e+01</td>\n",
       "      <td>1.591660e+00</td>\n",
       "      <td>1.000000e+00</td>\n",
       "    </tr>\n",
       "  </tbody>\n",
       "</table>\n",
       "</div>"
      ],
      "text/plain": [
       "                 0             1             2             3             4   \\\n",
       "count  5.000000e+06  5.000000e+06  5.000000e+06  5.000000e+06  5.000000e+06   \n",
       "mean   4.575654e-01  1.000318e+00  2.192580e-05 -4.994657e-05  9.994304e-01   \n",
       "std    4.981961e-01  6.873341e-01  1.003107e+00  1.001670e+00  6.542200e-01   \n",
       "min    0.000000e+00  2.548815e-01 -2.102927e+00 -1.734789e+00  4.285860e-01   \n",
       "25%    0.000000e+00  5.624837e-01 -7.573512e-01 -8.673567e-01  5.969881e-01   \n",
       "50%    0.000000e+00  7.915511e-01  1.342127e-04 -3.880155e-04  7.997993e-01   \n",
       "75%    1.000000e+00  1.204413e+00  7.576486e-01  8.670981e-01  1.162353e+00   \n",
       "max    1.000000e+00  2.055345e+01  2.101605e+00  1.734839e+00  3.303562e+01   \n",
       "\n",
       "                 5             6             7             8             9   \\\n",
       "count  5.000000e+06  5.000000e+06  5.000000e+06  5.000000e+06  5.000000e+06   \n",
       "mean  -3.713140e-05 -1.972243e-05  9.999744e-01  3.542352e-05  1.001437e+00   \n",
       "std    1.002839e+00  1.001631e+00  8.728877e-01  1.001654e+00  8.901668e-01   \n",
       "min   -2.059306e+00 -1.734202e+00  2.598711e-04 -1.727117e+00  7.693475e-08   \n",
       "25%   -7.695916e-01 -8.683741e-01  4.784546e-01 -8.661510e-01  3.691849e-01   \n",
       "50%   -3.793710e-04  2.006134e-04  7.738360e-01 -9.172642e-03  8.019273e-01   \n",
       "75%    7.692296e-01  8.674778e-01  1.207444e+00  8.687620e-01  1.375392e+00   \n",
       "max    2.059721e+00  1.734686e+00  2.106888e+01  1.740689e+00  2.338644e+01   \n",
       "\n",
       "                 10            11            12            13            14  \\\n",
       "count  5.000000e+06  5.000000e+06  5.000000e+06  5.000000e+06  5.000000e+06   \n",
       "mean  -4.878472e-05  1.000360e+00  9.999559e-01  9.999164e-01  1.000422e+00   \n",
       "std    1.001594e+00  6.288446e-01  5.841139e-01  4.708406e-01  8.592491e-01   \n",
       "min   -1.671863e+01  2.673070e-01  1.041228e-03  2.048078e-03  0.000000e+00   \n",
       "25%   -4.923983e-01  5.883287e-01  6.223411e-01  6.505438e-01  1.705215e-01   \n",
       "50%   -8.037898e-02  8.286114e-01  8.781311e-01  9.344703e-01  9.018388e-01   \n",
       "75%    3.489009e-01  1.211083e+00  1.220313e+00  1.283522e+00  1.613231e+00   \n",
       "max    2.048790e+01  2.107572e+01  1.616682e+01  6.731210e+00  2.068624e+01   \n",
       "\n",
       "                 15            16            17            18  \n",
       "count  5.000000e+06  5.000000e+06  5.000000e+06  5.000000e+06  \n",
       "mean   1.000112e+00  1.000192e+00  9.994852e-01  2.249139e-01  \n",
       "std    6.207165e-01  6.237672e-01  4.360948e-01  1.969804e-01  \n",
       "min    2.734135e-02  4.452858e-03  3.211849e-07  4.172130e-08  \n",
       "25%    5.985209e-01  5.134394e-01  6.879128e-01  6.908188e-02  \n",
       "50%    8.355336e-01  9.142514e-01  1.094396e+00  1.672500e-01  \n",
       "75%    1.207994e+00  1.384583e+00  1.369183e+00  3.303652e-01  \n",
       "max    2.115226e+01  1.561370e+01  1.591660e+00  1.000000e+00  "
      ]
     },
     "execution_count": 5,
     "metadata": {},
     "output_type": "execute_result"
    }
   ],
   "source": [
    "dataf_susy.describe()"
   ]
  },
  {
   "cell_type": "markdown",
   "metadata": {},
   "source": [
    "'describe()' method is used in order to view some basic statistical details like mean,percentile,std of a data frame or series of numeric values. It return the output as shown above."
   ]
  },
  {
   "cell_type": "code",
   "execution_count": 6,
   "metadata": {},
   "outputs": [],
   "source": [
    "Features=dataf_susy.drop(columns=[0,12,13,14,15],axis=1)"
   ]
  },
  {
   "cell_type": "markdown",
   "metadata": {},
   "source": [
    "'drop' is used to delete or remove rows from a dataframe with the axis set as shown above. 'axis' helps in identifying from which index the labels have to be dropped.  "
   ]
  },
  {
   "cell_type": "code",
   "execution_count": 7,
   "metadata": {},
   "outputs": [
    {
     "data": {
      "text/html": [
       "<div>\n",
       "<style scoped>\n",
       "    .dataframe tbody tr th:only-of-type {\n",
       "        vertical-align: middle;\n",
       "    }\n",
       "\n",
       "    .dataframe tbody tr th {\n",
       "        vertical-align: top;\n",
       "    }\n",
       "\n",
       "    .dataframe thead th {\n",
       "        text-align: right;\n",
       "    }\n",
       "</style>\n",
       "<table border=\"1\" class=\"dataframe\">\n",
       "  <thead>\n",
       "    <tr style=\"text-align: right;\">\n",
       "      <th></th>\n",
       "      <th>1</th>\n",
       "      <th>2</th>\n",
       "      <th>3</th>\n",
       "      <th>4</th>\n",
       "      <th>5</th>\n",
       "      <th>6</th>\n",
       "      <th>7</th>\n",
       "      <th>8</th>\n",
       "      <th>9</th>\n",
       "      <th>10</th>\n",
       "      <th>11</th>\n",
       "      <th>16</th>\n",
       "      <th>17</th>\n",
       "      <th>18</th>\n",
       "    </tr>\n",
       "  </thead>\n",
       "  <tbody>\n",
       "    <tr>\n",
       "      <td>0</td>\n",
       "      <td>0.972861</td>\n",
       "      <td>0.653855</td>\n",
       "      <td>1.176225</td>\n",
       "      <td>1.157156</td>\n",
       "      <td>-1.739873</td>\n",
       "      <td>-0.874309</td>\n",
       "      <td>0.567765</td>\n",
       "      <td>-0.175000</td>\n",
       "      <td>0.810061</td>\n",
       "      <td>-0.252552</td>\n",
       "      <td>1.921887</td>\n",
       "      <td>0.994464</td>\n",
       "      <td>1.367815</td>\n",
       "      <td>0.040714</td>\n",
       "    </tr>\n",
       "    <tr>\n",
       "      <td>1</td>\n",
       "      <td>1.667973</td>\n",
       "      <td>0.064191</td>\n",
       "      <td>-1.225171</td>\n",
       "      <td>0.506102</td>\n",
       "      <td>-0.338939</td>\n",
       "      <td>1.672543</td>\n",
       "      <td>3.475464</td>\n",
       "      <td>-1.219136</td>\n",
       "      <td>0.012955</td>\n",
       "      <td>3.775174</td>\n",
       "      <td>1.045977</td>\n",
       "      <td>0.205356</td>\n",
       "      <td>1.321893</td>\n",
       "      <td>0.377584</td>\n",
       "    </tr>\n",
       "    <tr>\n",
       "      <td>2</td>\n",
       "      <td>0.444840</td>\n",
       "      <td>-0.134298</td>\n",
       "      <td>-0.709972</td>\n",
       "      <td>0.451719</td>\n",
       "      <td>-1.613871</td>\n",
       "      <td>-0.768661</td>\n",
       "      <td>1.219918</td>\n",
       "      <td>0.504026</td>\n",
       "      <td>1.831248</td>\n",
       "      <td>-0.431385</td>\n",
       "      <td>0.526283</td>\n",
       "      <td>1.562374</td>\n",
       "      <td>1.135454</td>\n",
       "      <td>0.180910</td>\n",
       "    </tr>\n",
       "    <tr>\n",
       "      <td>3</td>\n",
       "      <td>0.381256</td>\n",
       "      <td>-0.976145</td>\n",
       "      <td>0.693152</td>\n",
       "      <td>0.448959</td>\n",
       "      <td>0.891753</td>\n",
       "      <td>-0.677328</td>\n",
       "      <td>2.033060</td>\n",
       "      <td>1.533041</td>\n",
       "      <td>3.046260</td>\n",
       "      <td>-1.005285</td>\n",
       "      <td>0.569386</td>\n",
       "      <td>1.715464</td>\n",
       "      <td>1.492257</td>\n",
       "      <td>0.090719</td>\n",
       "    </tr>\n",
       "    <tr>\n",
       "      <td>4</td>\n",
       "      <td>1.309996</td>\n",
       "      <td>-0.690089</td>\n",
       "      <td>-0.676259</td>\n",
       "      <td>1.589283</td>\n",
       "      <td>-0.693326</td>\n",
       "      <td>0.622907</td>\n",
       "      <td>1.087562</td>\n",
       "      <td>-0.381742</td>\n",
       "      <td>0.589204</td>\n",
       "      <td>1.365479</td>\n",
       "      <td>1.179295</td>\n",
       "      <td>0.043429</td>\n",
       "      <td>1.154854</td>\n",
       "      <td>0.094859</td>\n",
       "    </tr>\n",
       "  </tbody>\n",
       "</table>\n",
       "</div>"
      ],
      "text/plain": [
       "         1         2         3         4         5         6         7   \\\n",
       "0  0.972861  0.653855  1.176225  1.157156 -1.739873 -0.874309  0.567765   \n",
       "1  1.667973  0.064191 -1.225171  0.506102 -0.338939  1.672543  3.475464   \n",
       "2  0.444840 -0.134298 -0.709972  0.451719 -1.613871 -0.768661  1.219918   \n",
       "3  0.381256 -0.976145  0.693152  0.448959  0.891753 -0.677328  2.033060   \n",
       "4  1.309996 -0.690089 -0.676259  1.589283 -0.693326  0.622907  1.087562   \n",
       "\n",
       "         8         9         10        11        16        17        18  \n",
       "0 -0.175000  0.810061 -0.252552  1.921887  0.994464  1.367815  0.040714  \n",
       "1 -1.219136  0.012955  3.775174  1.045977  0.205356  1.321893  0.377584  \n",
       "2  0.504026  1.831248 -0.431385  0.526283  1.562374  1.135454  0.180910  \n",
       "3  1.533041  3.046260 -1.005285  0.569386  1.715464  1.492257  0.090719  \n",
       "4 -0.381742  0.589204  1.365479  1.179295  0.043429  1.154854  0.094859  "
      ]
     },
     "execution_count": 7,
     "metadata": {},
     "output_type": "execute_result"
    }
   ],
   "source": [
    "Features.head()"
   ]
  },
  {
   "cell_type": "markdown",
   "metadata": {},
   "source": [
    "Here,'head()' method is used to return top n rows of a data frame or series for 'Features'.It returns the required output as shown above."
   ]
  },
  {
   "cell_type": "code",
   "execution_count": 8,
   "metadata": {},
   "outputs": [],
   "source": [
    "Labels=dataf_susy[0]"
   ]
  },
  {
   "cell_type": "code",
   "execution_count": 9,
   "metadata": {},
   "outputs": [
    {
     "data": {
      "text/plain": [
       "0    0.0\n",
       "1    1.0\n",
       "2    1.0\n",
       "3    1.0\n",
       "4    1.0\n",
       "Name: 0, dtype: float64"
      ]
     },
     "execution_count": 9,
     "metadata": {},
     "output_type": "execute_result"
    }
   ],
   "source": [
    "Labels.head()"
   ]
  },
  {
   "cell_type": "markdown",
   "metadata": {},
   "source": [
    "In the above cell, one can observe clearly that the values other than 0 have all been given the value of 1.0. The classifier is such that the class label 1 denotes presence of the particle and 0 denotes its absence."
   ]
  },
  {
   "cell_type": "code",
   "execution_count": 10,
   "metadata": {},
   "outputs": [
    {
     "name": "stdout",
     "output_type": "stream",
     "text": [
      "(5000000, 14) (5000000,)\n"
     ]
    }
   ],
   "source": [
    "print(Features.shape , Labels.shape)"
   ]
  },
  {
   "cell_type": "markdown",
   "metadata": {},
   "source": [
    "'Features.shape' is used to return shape of dataframe and series. the result of it is shown above. "
   ]
  },
  {
   "cell_type": "markdown",
   "metadata": {},
   "source": [
    "1.4 ANS)"
   ]
  },
  {
   "cell_type": "code",
   "execution_count": 11,
   "metadata": {},
   "outputs": [],
   "source": [
    "from sklearn.tree import DecisionTreeClassifier \n",
    "from sklearn.model_selection import train_test_split,StratifiedKFold,cross_validate\n",
    "from sklearn.metrics import confusion_matrix, accuracy_score, precision_score, recall_score, f1_score, roc_auc_score, make_scorer"
   ]
  },
  {
   "cell_type": "code",
   "execution_count": 12,
   "metadata": {},
   "outputs": [],
   "source": [
    "x_train,x_test,y_train,y_test=train_test_split(Features,Labels,test_size=0.333,random_state=1,shuffle=True)"
   ]
  },
  {
   "cell_type": "markdown",
   "metadata": {},
   "source": [
    "'train_test_split' is used to split arrays or matrices into random train and test subsets. The parameters used are shown above. test_size is given 0.333 as 33.33% is provided for testing and the other for training. 'random_state' is the seed used by the random number generator. 'shuffle' is used to determine whether or not to shuffle the data before splitting."
   ]
  },
  {
   "cell_type": "code",
   "execution_count": 13,
   "metadata": {},
   "outputs": [
    {
     "name": "stdout",
     "output_type": "stream",
     "text": [
      "(3335000, 14) (1665000, 14) (3335000,) (1665000,)\n"
     ]
    }
   ],
   "source": [
    "print(x_train.shape,x_test.shape,y_train.shape,y_test.shape)"
   ]
  },
  {
   "cell_type": "markdown",
   "metadata": {},
   "source": [
    "This provides the number value of data which would be trained and which would be tested. Such that each of them have a certain number to be trained and tested as per the required size of testing the dataset."
   ]
  },
  {
   "cell_type": "code",
   "execution_count": 14,
   "metadata": {},
   "outputs": [
    {
     "name": "stdout",
     "output_type": "stream",
     "text": [
      "0.67\n",
      "0.33\n"
     ]
    }
   ],
   "source": [
    "for dataset in [y_train,y_test]:\n",
    "    print(round(len(dataset) / len(Labels), 2))"
   ]
  },
  {
   "cell_type": "markdown",
   "metadata": {},
   "source": [
    "This provides the inforamtion of the percentage of the data which would be used for traning and testing respectively.'round' method is used to round off to the given number of digits and returns the floating point number.'len' is another function which returns the number of items in an object."
   ]
  },
  {
   "cell_type": "code",
   "execution_count": 15,
   "metadata": {},
   "outputs": [],
   "source": [
    "DT_Susy_model = DecisionTreeClassifier(criterion=\"gini\", random_state=1)"
   ]
  },
  {
   "cell_type": "markdown",
   "metadata": {},
   "source": [
    "Decision Tree Classifier in Python. Decision Trees can be used as classifier or regression models. The parameter used are shown above. 'criterion' is a function which is used to measure the quality of a split. Supported criteria are gini for the Gini impurity. 'random_state' is the seed used by the random number generator."
   ]
  },
  {
   "cell_type": "code",
   "execution_count": 16,
   "metadata": {},
   "outputs": [
    {
     "data": {
      "text/plain": [
       "DecisionTreeClassifier(class_weight=None, criterion='gini', max_depth=None,\n",
       "                       max_features=None, max_leaf_nodes=None,\n",
       "                       min_impurity_decrease=0.0, min_impurity_split=None,\n",
       "                       min_samples_leaf=1, min_samples_split=2,\n",
       "                       min_weight_fraction_leaf=0.0, presort=False,\n",
       "                       random_state=1, splitter='best')"
      ]
     },
     "execution_count": 16,
     "metadata": {},
     "output_type": "execute_result"
    }
   ],
   "source": [
    "DT_Susy_model.fit(x_train, y_train)"
   ]
  },
  {
   "cell_type": "markdown",
   "metadata": {},
   "source": [
    "In the aabove cell,an estimator for classification is a Python object that implements the methods fit(x, y)"
   ]
  },
  {
   "cell_type": "code",
   "execution_count": 17,
   "metadata": {},
   "outputs": [],
   "source": [
    "Predictions=DT_Susy_model.predict(x_test)"
   ]
  },
  {
   "cell_type": "markdown",
   "metadata": {},
   "source": [
    "'predict' can be used to predict for the x_test. "
   ]
  },
  {
   "cell_type": "code",
   "execution_count": 18,
   "metadata": {},
   "outputs": [
    {
     "data": {
      "text/plain": [
       "0.715818018018018"
      ]
     },
     "execution_count": 18,
     "metadata": {},
     "output_type": "execute_result"
    }
   ],
   "source": [
    "DT_Susy_model.score(x_test,y_test)"
   ]
  },
  {
   "cell_type": "markdown",
   "metadata": {},
   "source": [
    "This provides the value of the result of test."
   ]
  },
  {
   "cell_type": "code",
   "execution_count": 19,
   "metadata": {},
   "outputs": [],
   "source": [
    "nfolds = 10\n",
    "def tn(y_true, Predictions): \n",
    "\treturn confusion_matrix(y_true, Predictions)[0, 0]\n",
    "def fp(y_true, Predictions): \n",
    "\treturn confusion_matrix(y_true, Predictions)[0, 1]\n",
    "def fn(y_true, Predictions): \n",
    "\treturn confusion_matrix(y_true, Predictions)[1, 0]\n",
    "def tp(y_true, Predictions): \n",
    "\treturn confusion_matrix(y_true, Predictions)[1, 1]"
   ]
  },
  {
   "cell_type": "markdown",
   "metadata": {},
   "source": [
    "'nfolds' is used to specify the number of folds to use for k-fold cross-validation. Where K-fold cross-validation is used to validate a model internally.A confusion matrix is a matrix, which can be used to measure the performance of an machine learning algorithm. It can be also said that it is a table that is often used to describe the performance of a classification model which is also known as a classifier, on a set of test data for which the true values are known. Majority of the performance measures are computed from the confusion matrix."
   ]
  },
  {
   "cell_type": "code",
   "execution_count": 20,
   "metadata": {},
   "outputs": [],
   "source": [
    "scoring = {'tp': make_scorer(tp), 'tn': make_scorer(tn),\n",
    "           'fp': make_scorer(fp), 'fn': make_scorer(fn),\n",
    "           'ac' : make_scorer(accuracy_score),\n",
    "           're' : make_scorer(recall_score),\n",
    "           'pr' : make_scorer(precision_score),\n",
    "           'f1' : make_scorer(f1_score),\n",
    "           'auc' : make_scorer(roc_auc_score),\n",
    "          } "
   ]
  },
  {
   "cell_type": "markdown",
   "metadata": {},
   "source": [
    "'make_scorer' is used for converting into a scorer object. the required paramters are shown above."
   ]
  },
  {
   "cell_type": "code",
   "execution_count": 21,
   "metadata": {},
   "outputs": [],
   "source": [
    "cv_results = cross_validate(DT_Susy_model, x_train, y_train, scoring=scoring, cv=StratifiedKFold(n_splits=nfolds, random_state=1))"
   ]
  },
  {
   "cell_type": "markdown",
   "metadata": {},
   "source": [
    "Cross validation is done using 'cross_validate'. Cross validation is a technique in which we train our model using the subset of the dataset and then evaluate using the complementary subset of the dataset.\n",
    "The object to use to fit the data is DT_Susy_model.'cv' is used to determine the crossvalidation splitting strategy. "
   ]
  },
  {
   "cell_type": "code",
   "execution_count": 22,
   "metadata": {},
   "outputs": [
    {
     "name": "stdout",
     "output_type": "stream",
     "text": [
      "Cross Validation scores (nfolds = 10):\n",
      "tp:  [105744 106126 106016 106027 106110 105845 105942 106127 105911 105867] ; mean: 105971.5\n",
      "fn:  [46809 46427 46537 46525 46442 46707 46610 46425 46641 46685] ; mean: 46580.8\n",
      "fp:  [48329 48298 48499 48130 48390 48460 48248 48302 48047 48591] ; mean: 48329.4\n",
      "tn:  [132619 132650 132449 132818 132558 132488 132700 132645 132900 132356] ; mean: 132618.3\n",
      "ac:  [0.71472949 0.71596787 0.71503534 0.71617691 0.71564618 0.71464168\n",
      " 0.71556822 0.71596017 0.71607711 0.71431399] ; mean: 0.7154116943384009\n",
      "re:  [0.69316238 0.69566642 0.69494536 0.69502203 0.6955661  0.69382899\n",
      " 0.69446484 0.69567754 0.69426163 0.6939732 ] ; mean: 0.6946568489602472\n",
      "pr:  [0.68632402 0.68723774 0.68612109 0.68778583 0.68679612 0.68594666\n",
      " 0.68708736 0.68722196 0.68792138 0.68540963] ; mean: 0.6867851774616982\n",
      "f1:  [0.68972625 0.69142639 0.69050503 0.69138499 0.69115329 0.68986531\n",
      " 0.6907564  0.6914239  0.69107696 0.68966483] ; mean: 0.6906983365315001\n",
      "auc:  [0.7130373  0.71437498 0.71345904 0.714517   0.7140706  0.71300862\n",
      " 0.71391235 0.71436875 0.71436542 0.712718  ] ; mean: 0.7137832067910554\n"
     ]
    }
   ],
   "source": [
    "print('Cross Validation scores (nfolds = %d):'% nfolds)\n",
    "print('tp: ', cv_results['test_tp'], '; mean:', cv_results['test_tp'].mean())\n",
    "print('fn: ', cv_results['test_fn'], '; mean:', cv_results['test_fn'].mean())\n",
    "print('fp: ', cv_results['test_fp'], '; mean:', cv_results['test_fp'].mean())\n",
    "print('tn: ', cv_results['test_tn'], '; mean:', cv_results['test_tn'].mean())\n",
    "print('ac: ', cv_results['test_ac'], '; mean:', cv_results['test_ac'].mean())\n",
    "print('re: ', cv_results['test_re'], '; mean:', cv_results['test_re'].mean())\n",
    "print('pr: ', cv_results['test_pr'], '; mean:', cv_results['test_pr'].mean())\n",
    "print('f1: ', cv_results['test_f1'], '; mean:', cv_results['test_f1'].mean())\n",
    "print('auc: ', cv_results['test_auc'], '; mean:', cv_results['test_auc'].mean())"
   ]
  },
  {
   "cell_type": "markdown",
   "metadata": {},
   "source": [
    "'cv_resluts' is a dict with keys as column headers and values as columns which can be imported into a pandas dataframe. "
   ]
  },
  {
   "cell_type": "markdown",
   "metadata": {},
   "source": [
    "1.5 ANS)"
   ]
  },
  {
   "cell_type": "code",
   "execution_count": 23,
   "metadata": {},
   "outputs": [],
   "source": [
    "from sklearn.ensemble import BaggingClassifier "
   ]
  },
  {
   "cell_type": "code",
   "execution_count": 24,
   "metadata": {},
   "outputs": [],
   "source": [
    "BGCModel = BaggingClassifier(base_estimator=DT_Susy_model,n_estimators=10,random_state=1)"
   ]
  },
  {
   "cell_type": "markdown",
   "metadata": {},
   "source": [
    "Baggingclassifier is an ensemble meta-estimator that fits base classifiers each on random subsets of the original dataset and then aggregate their individual predictions with the help of voting or averaging, to form a final prediction. Such a meta-estimator can typically be used as a way to reduce the variance of a black-box estimator such as a decision tree, by introducing randomization into its construction procedure and then making an ensemble out of it.\n",
    "The'base_estimator' is used in order to fit on random subsets of the dataset. 'n_estimators' is used to find the number of base estimators in the ensemble. "
   ]
  },
  {
   "cell_type": "code",
   "execution_count": 25,
   "metadata": {},
   "outputs": [
    {
     "data": {
      "text/plain": [
       "BaggingClassifier(base_estimator=DecisionTreeClassifier(class_weight=None,\n",
       "                                                        criterion='gini',\n",
       "                                                        max_depth=None,\n",
       "                                                        max_features=None,\n",
       "                                                        max_leaf_nodes=None,\n",
       "                                                        min_impurity_decrease=0.0,\n",
       "                                                        min_impurity_split=None,\n",
       "                                                        min_samples_leaf=1,\n",
       "                                                        min_samples_split=2,\n",
       "                                                        min_weight_fraction_leaf=0.0,\n",
       "                                                        presort=False,\n",
       "                                                        random_state=1,\n",
       "                                                        splitter='best'),\n",
       "                  bootstrap=True, bootstrap_features=False, max_features=1.0,\n",
       "                  max_samples=1.0, n_estimators=10, n_jobs=None,\n",
       "                  oob_score=False, random_state=1, verbose=0, warm_start=False)"
      ]
     },
     "execution_count": 25,
     "metadata": {},
     "output_type": "execute_result"
    }
   ],
   "source": [
    "BGCModel.fit(x_train,y_train)"
   ]
  },
  {
   "cell_type": "markdown",
   "metadata": {},
   "source": [
    "In the above cell,an estimator for classification is a Python object that implements the methods fit(X, y)"
   ]
  },
  {
   "cell_type": "code",
   "execution_count": 26,
   "metadata": {},
   "outputs": [],
   "source": [
    "Predictions=BGCModel.predict(x_test)"
   ]
  },
  {
   "cell_type": "markdown",
   "metadata": {},
   "source": [
    "'predict' can be used to predict for the x_test. "
   ]
  },
  {
   "cell_type": "code",
   "execution_count": 27,
   "metadata": {},
   "outputs": [
    {
     "data": {
      "text/plain": [
       "0.782933933933934"
      ]
     },
     "execution_count": 27,
     "metadata": {},
     "output_type": "execute_result"
    }
   ],
   "source": [
    "BGCModel.score(x_test,y_test)"
   ]
  },
  {
   "cell_type": "markdown",
   "metadata": {},
   "source": [
    "The above cell provides the value of the result of test."
   ]
  },
  {
   "cell_type": "code",
   "execution_count": 28,
   "metadata": {},
   "outputs": [],
   "source": [
    "nfolds = 10\n",
    "def tn(y_true, Predictions): \n",
    "\treturn confusion_matrix(y_true, Predictions)[0, 0]\n",
    "def fp(y_true, Predictions): \n",
    "\treturn confusion_matrix(y_true, Predictions)[0, 1]\n",
    "def fn(y_true, Predictions): \n",
    "\treturn confusion_matrix(y_true, Predictions)[1, 0]\n",
    "def tp(y_true, Predictions): \n",
    "\treturn confusion_matrix(y_true, Predictions)[1, 1]"
   ]
  },
  {
   "cell_type": "markdown",
   "metadata": {},
   "source": [
    "'nfolds' is used to specify the number of folds to use for k-fold cross-validation.As explained before.A confusion matrix is a matrix, which can be used to measure the performance of an machine learning algorithm. It can be also said that it is a table that is often used to describe the performance of a classification model which is also known as a classifier, on a set of test data for which the true values are known. Majority of the performance measures are computed from the confusion matrix."
   ]
  },
  {
   "cell_type": "code",
   "execution_count": 29,
   "metadata": {},
   "outputs": [],
   "source": [
    "scoring = {'tp': make_scorer(tp), 'tn': make_scorer(tn),\n",
    "           'fp': make_scorer(fp), 'fn': make_scorer(fn),\n",
    "           'ac' : make_scorer(accuracy_score),\n",
    "           're' : make_scorer(recall_score),\n",
    "           'pr' : make_scorer(precision_score),\n",
    "           'f1' : make_scorer(f1_score),\n",
    "           'auc' : make_scorer(roc_auc_score),\n",
    "          } "
   ]
  },
  {
   "cell_type": "markdown",
   "metadata": {},
   "source": [
    "'make_scorer' is used for converting into a scorer object. the required paramters are shown above."
   ]
  },
  {
   "cell_type": "code",
   "execution_count": 30,
   "metadata": {},
   "outputs": [],
   "source": [
    "cv_results = cross_validate(BGCModel, x_train, y_train, scoring=scoring, cv=StratifiedKFold(n_splits=nfolds, random_state=1))"
   ]
  },
  {
   "cell_type": "markdown",
   "metadata": {},
   "source": [
    "Cross validation is done using 'cross_validate'. Cross validation is a technique in which we train our model using the subset of the dataset and then evaluate using the complementary subset of the dataset.\n",
    "The object to use to fit the data is DT_Susy_model.'cv' is used to determine the crossvalidation splitting strategy. "
   ]
  },
  {
   "cell_type": "code",
   "execution_count": 31,
   "metadata": {
    "scrolled": true
   },
   "outputs": [
    {
     "name": "stdout",
     "output_type": "stream",
     "text": [
      "Cross Validation scores (nfolds = 10):\n",
      "tp:  [103443 103909 103482 103591 103722 103695 103407 103858 103915 103683] ; mean: 103670.5\n",
      "fn:  [49110 48644 49071 48961 48830 48857 49145 48694 48637 48869] ; mean: 48881.8\n",
      "fp:  [23730 23507 23648 23546 23529 23499 23582 23572 23551 23733] ; mean: 23589.7\n",
      "tn:  [157218 157441 157300 157402 157419 157449 157366 157375 157396 157214] ; mean: 157358.0\n",
      "ac:  [0.78158986 0.78365582 0.78195268 0.78258771 0.78303148 0.78304048\n",
      " 0.78192804 0.7833097  0.78354358 0.7823022 ] ; mean: 0.782694153510378\n",
      "re:  [0.67807909 0.68113377 0.67833474 0.6790537  0.67991242 0.67973543\n",
      " 0.67784755 0.68080392 0.68117757 0.67965677] ; mean: 0.6795734978580377\n",
      "pr:  [0.81340379 0.81550983 0.81398568 0.81479821 0.81509772 0.81525072\n",
      " 0.81429888 0.81502001 0.815237   0.81373611] ; mean: 0.8146337948139175\n",
      "f1:  [0.73960233 0.74228932 0.73999492 0.74075849 0.74139305 0.74135108\n",
      " 0.73983423 0.74189055 0.74220229 0.74067751] ; mean: 0.7409993763826781\n",
      "auc:  [0.77346822 0.77561176 0.77382263 0.77446396 0.7749403  0.7749347\n",
      " 0.77376141 0.77526687 0.77551172 0.77424841] ; mean: 0.7746029968056807\n"
     ]
    }
   ],
   "source": [
    "print('Cross Validation scores (nfolds = %d):'% nfolds)\n",
    "print('tp: ', cv_results['test_tp'], '; mean:', cv_results['test_tp'].mean())\n",
    "print('fn: ', cv_results['test_fn'], '; mean:', cv_results['test_fn'].mean())\n",
    "print('fp: ', cv_results['test_fp'], '; mean:', cv_results['test_fp'].mean())\n",
    "print('tn: ', cv_results['test_tn'], '; mean:', cv_results['test_tn'].mean())\n",
    "print('ac: ', cv_results['test_ac'], '; mean:', cv_results['test_ac'].mean())\n",
    "print('re: ', cv_results['test_re'], '; mean:', cv_results['test_re'].mean())\n",
    "print('pr: ', cv_results['test_pr'], '; mean:', cv_results['test_pr'].mean())\n",
    "print('f1: ', cv_results['test_f1'], '; mean:', cv_results['test_f1'].mean())\n",
    "print('auc: ', cv_results['test_auc'], '; mean:', cv_results['test_auc'].mean())"
   ]
  },
  {
   "cell_type": "markdown",
   "metadata": {},
   "source": [
    "'cv_resluts' is a dict with keys as column headers and values as columns which can be imported into a pandas dataframe. "
   ]
  },
  {
   "cell_type": "code",
   "execution_count": null,
   "metadata": {},
   "outputs": [],
   "source": []
  }
 ],
 "metadata": {
  "kernelspec": {
   "display_name": "Python 3",
   "language": "python",
   "name": "python3"
  },
  "language_info": {
   "codemirror_mode": {
    "name": "ipython",
    "version": 3
   },
   "file_extension": ".py",
   "mimetype": "text/x-python",
   "name": "python",
   "nbconvert_exporter": "python",
   "pygments_lexer": "ipython3",
   "version": "3.7.4"
  }
 },
 "nbformat": 4,
 "nbformat_minor": 2
}
