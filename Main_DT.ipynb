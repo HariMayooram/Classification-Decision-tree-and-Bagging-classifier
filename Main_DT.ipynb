{
 "cells": [
  {
   "cell_type": "code",
   "execution_count": 3,
   "metadata": {
    "colab": {},
    "colab_type": "code",
    "id": "FvTFBxVfVPyM"
   },
   "outputs": [],
   "source": [
    "import pandas as pd\n",
    "import numpy as np\n",
    "import seaborn as sns\n",
    "import scipy\n",
    "import matplotlib.pyplot as plt\n",
    "import h5py\n",
    "import itertools  \n",
    "import time"
   ]
  },
  {
   "cell_type": "markdown",
   "metadata": {},
   "source": [
    "Python is a great language in order to perform data analysis. Pandas is one of the packages used widely for Python and makes importing and analyzing data much easier.other such packages used in this file are numpy, seaborn,,matplotlib's pyplot and all the ones which are present in the above cell."
   ]
  },
  {
   "cell_type": "code",
   "execution_count": 4,
   "metadata": {
    "colab": {},
    "colab_type": "code",
    "id": "XRD5IAf4VYgJ"
   },
   "outputs": [],
   "source": [
    "url='https://archive.ics.uci.edu/ml/machine-learning-databases/00279/SUSY.csv.gz'"
   ]
  },
  {
   "cell_type": "code",
   "execution_count": 5,
   "metadata": {
    "colab": {},
    "colab_type": "code",
    "id": "8m-Rb-1WVeka"
   },
   "outputs": [],
   "source": [
    "dataf_susy=pd.read_csv(url,header=None,index_col=False)"
   ]
  },
  {
   "cell_type": "markdown",
   "metadata": {},
   "source": [
    "A csv file can be read locally or read_csv can be used to read a csv file using an URL. The parameters used in read_csv are 'url', 'header' and 'index_col'. 'url' is used to access the particular url which was run before.'header' is used to pass the row or list as header. 'index_col' is used to pass the column as index instead of 0 to r     "
   ]
  },
  {
   "cell_type": "code",
   "execution_count": 6,
   "metadata": {
    "colab": {
     "base_uri": "https://localhost:8080/",
     "height": 206
    },
    "colab_type": "code",
    "id": "2YGAyCW2Vgip",
    "outputId": "421108ec-3331-4d02-bcad-cc87c4fd0183"
   },
   "outputs": [
    {
     "data": {
      "text/html": [
       "<div>\n",
       "<style scoped>\n",
       "    .dataframe tbody tr th:only-of-type {\n",
       "        vertical-align: middle;\n",
       "    }\n",
       "\n",
       "    .dataframe tbody tr th {\n",
       "        vertical-align: top;\n",
       "    }\n",
       "\n",
       "    .dataframe thead th {\n",
       "        text-align: right;\n",
       "    }\n",
       "</style>\n",
       "<table border=\"1\" class=\"dataframe\">\n",
       "  <thead>\n",
       "    <tr style=\"text-align: right;\">\n",
       "      <th></th>\n",
       "      <th>0</th>\n",
       "      <th>1</th>\n",
       "      <th>2</th>\n",
       "      <th>3</th>\n",
       "      <th>4</th>\n",
       "      <th>5</th>\n",
       "      <th>6</th>\n",
       "      <th>7</th>\n",
       "      <th>8</th>\n",
       "      <th>9</th>\n",
       "      <th>10</th>\n",
       "      <th>11</th>\n",
       "      <th>12</th>\n",
       "      <th>13</th>\n",
       "      <th>14</th>\n",
       "      <th>15</th>\n",
       "      <th>16</th>\n",
       "      <th>17</th>\n",
       "      <th>18</th>\n",
       "    </tr>\n",
       "  </thead>\n",
       "  <tbody>\n",
       "    <tr>\n",
       "      <td>0</td>\n",
       "      <td>0.0</td>\n",
       "      <td>0.972861</td>\n",
       "      <td>0.653855</td>\n",
       "      <td>1.176225</td>\n",
       "      <td>1.157156</td>\n",
       "      <td>-1.739873</td>\n",
       "      <td>-0.874309</td>\n",
       "      <td>0.567765</td>\n",
       "      <td>-0.175000</td>\n",
       "      <td>0.810061</td>\n",
       "      <td>-0.252552</td>\n",
       "      <td>1.921887</td>\n",
       "      <td>0.889637</td>\n",
       "      <td>0.410772</td>\n",
       "      <td>1.145621</td>\n",
       "      <td>1.932632</td>\n",
       "      <td>0.994464</td>\n",
       "      <td>1.367815</td>\n",
       "      <td>0.040714</td>\n",
       "    </tr>\n",
       "    <tr>\n",
       "      <td>1</td>\n",
       "      <td>1.0</td>\n",
       "      <td>1.667973</td>\n",
       "      <td>0.064191</td>\n",
       "      <td>-1.225171</td>\n",
       "      <td>0.506102</td>\n",
       "      <td>-0.338939</td>\n",
       "      <td>1.672543</td>\n",
       "      <td>3.475464</td>\n",
       "      <td>-1.219136</td>\n",
       "      <td>0.012955</td>\n",
       "      <td>3.775174</td>\n",
       "      <td>1.045977</td>\n",
       "      <td>0.568051</td>\n",
       "      <td>0.481928</td>\n",
       "      <td>0.000000</td>\n",
       "      <td>0.448410</td>\n",
       "      <td>0.205356</td>\n",
       "      <td>1.321893</td>\n",
       "      <td>0.377584</td>\n",
       "    </tr>\n",
       "    <tr>\n",
       "      <td>2</td>\n",
       "      <td>1.0</td>\n",
       "      <td>0.444840</td>\n",
       "      <td>-0.134298</td>\n",
       "      <td>-0.709972</td>\n",
       "      <td>0.451719</td>\n",
       "      <td>-1.613871</td>\n",
       "      <td>-0.768661</td>\n",
       "      <td>1.219918</td>\n",
       "      <td>0.504026</td>\n",
       "      <td>1.831248</td>\n",
       "      <td>-0.431385</td>\n",
       "      <td>0.526283</td>\n",
       "      <td>0.941514</td>\n",
       "      <td>1.587535</td>\n",
       "      <td>2.024308</td>\n",
       "      <td>0.603498</td>\n",
       "      <td>1.562374</td>\n",
       "      <td>1.135454</td>\n",
       "      <td>0.180910</td>\n",
       "    </tr>\n",
       "    <tr>\n",
       "      <td>3</td>\n",
       "      <td>1.0</td>\n",
       "      <td>0.381256</td>\n",
       "      <td>-0.976145</td>\n",
       "      <td>0.693152</td>\n",
       "      <td>0.448959</td>\n",
       "      <td>0.891753</td>\n",
       "      <td>-0.677328</td>\n",
       "      <td>2.033060</td>\n",
       "      <td>1.533041</td>\n",
       "      <td>3.046260</td>\n",
       "      <td>-1.005285</td>\n",
       "      <td>0.569386</td>\n",
       "      <td>1.015211</td>\n",
       "      <td>1.582217</td>\n",
       "      <td>1.551914</td>\n",
       "      <td>0.761215</td>\n",
       "      <td>1.715464</td>\n",
       "      <td>1.492257</td>\n",
       "      <td>0.090719</td>\n",
       "    </tr>\n",
       "    <tr>\n",
       "      <td>4</td>\n",
       "      <td>1.0</td>\n",
       "      <td>1.309996</td>\n",
       "      <td>-0.690089</td>\n",
       "      <td>-0.676259</td>\n",
       "      <td>1.589283</td>\n",
       "      <td>-0.693326</td>\n",
       "      <td>0.622907</td>\n",
       "      <td>1.087562</td>\n",
       "      <td>-0.381742</td>\n",
       "      <td>0.589204</td>\n",
       "      <td>1.365479</td>\n",
       "      <td>1.179295</td>\n",
       "      <td>0.968218</td>\n",
       "      <td>0.728563</td>\n",
       "      <td>0.000000</td>\n",
       "      <td>1.083158</td>\n",
       "      <td>0.043429</td>\n",
       "      <td>1.154854</td>\n",
       "      <td>0.094859</td>\n",
       "    </tr>\n",
       "  </tbody>\n",
       "</table>\n",
       "</div>"
      ],
      "text/plain": [
       "    0         1         2         3         4         5         6         7   \\\n",
       "0  0.0  0.972861  0.653855  1.176225  1.157156 -1.739873 -0.874309  0.567765   \n",
       "1  1.0  1.667973  0.064191 -1.225171  0.506102 -0.338939  1.672543  3.475464   \n",
       "2  1.0  0.444840 -0.134298 -0.709972  0.451719 -1.613871 -0.768661  1.219918   \n",
       "3  1.0  0.381256 -0.976145  0.693152  0.448959  0.891753 -0.677328  2.033060   \n",
       "4  1.0  1.309996 -0.690089 -0.676259  1.589283 -0.693326  0.622907  1.087562   \n",
       "\n",
       "         8         9         10        11        12        13        14  \\\n",
       "0 -0.175000  0.810061 -0.252552  1.921887  0.889637  0.410772  1.145621   \n",
       "1 -1.219136  0.012955  3.775174  1.045977  0.568051  0.481928  0.000000   \n",
       "2  0.504026  1.831248 -0.431385  0.526283  0.941514  1.587535  2.024308   \n",
       "3  1.533041  3.046260 -1.005285  0.569386  1.015211  1.582217  1.551914   \n",
       "4 -0.381742  0.589204  1.365479  1.179295  0.968218  0.728563  0.000000   \n",
       "\n",
       "         15        16        17        18  \n",
       "0  1.932632  0.994464  1.367815  0.040714  \n",
       "1  0.448410  0.205356  1.321893  0.377584  \n",
       "2  0.603498  1.562374  1.135454  0.180910  \n",
       "3  0.761215  1.715464  1.492257  0.090719  \n",
       "4  1.083158  0.043429  1.154854  0.094859  "
      ]
     },
     "execution_count": 6,
     "metadata": {},
     "output_type": "execute_result"
    }
   ],
   "source": [
    "dataf_susy.head()"
   ]
  },
  {
   "cell_type": "markdown",
   "metadata": {},
   "source": [
    "'head()' method is used to return top n rows of a data frame or series.It returns the output as shown above.It consist of one parameter which is 'n' which denotes the number of rows to be returned which is of integer value. And return type which is the datframe with top n rows."
   ]
  },
  {
   "cell_type": "code",
   "execution_count": 7,
   "metadata": {
    "colab": {
     "base_uri": "https://localhost:8080/",
     "height": 320
    },
    "colab_type": "code",
    "id": "w6EZEcGpD8BF",
    "outputId": "4538fe22-744f-4a6f-8473-6edd25c7deb7"
   },
   "outputs": [
    {
     "data": {
      "text/html": [
       "<div>\n",
       "<style scoped>\n",
       "    .dataframe tbody tr th:only-of-type {\n",
       "        vertical-align: middle;\n",
       "    }\n",
       "\n",
       "    .dataframe tbody tr th {\n",
       "        vertical-align: top;\n",
       "    }\n",
       "\n",
       "    .dataframe thead th {\n",
       "        text-align: right;\n",
       "    }\n",
       "</style>\n",
       "<table border=\"1\" class=\"dataframe\">\n",
       "  <thead>\n",
       "    <tr style=\"text-align: right;\">\n",
       "      <th></th>\n",
       "      <th>0</th>\n",
       "      <th>1</th>\n",
       "      <th>2</th>\n",
       "      <th>3</th>\n",
       "      <th>4</th>\n",
       "      <th>5</th>\n",
       "      <th>6</th>\n",
       "      <th>7</th>\n",
       "      <th>8</th>\n",
       "      <th>9</th>\n",
       "      <th>10</th>\n",
       "      <th>11</th>\n",
       "      <th>12</th>\n",
       "      <th>13</th>\n",
       "      <th>14</th>\n",
       "      <th>15</th>\n",
       "      <th>16</th>\n",
       "      <th>17</th>\n",
       "      <th>18</th>\n",
       "    </tr>\n",
       "  </thead>\n",
       "  <tbody>\n",
       "    <tr>\n",
       "      <td>count</td>\n",
       "      <td>5.000000e+06</td>\n",
       "      <td>5.000000e+06</td>\n",
       "      <td>5.000000e+06</td>\n",
       "      <td>5.000000e+06</td>\n",
       "      <td>5.000000e+06</td>\n",
       "      <td>5.000000e+06</td>\n",
       "      <td>5.000000e+06</td>\n",
       "      <td>5.000000e+06</td>\n",
       "      <td>5.000000e+06</td>\n",
       "      <td>5.000000e+06</td>\n",
       "      <td>5.000000e+06</td>\n",
       "      <td>5.000000e+06</td>\n",
       "      <td>5.000000e+06</td>\n",
       "      <td>5.000000e+06</td>\n",
       "      <td>5.000000e+06</td>\n",
       "      <td>5.000000e+06</td>\n",
       "      <td>5.000000e+06</td>\n",
       "      <td>5.000000e+06</td>\n",
       "      <td>5.000000e+06</td>\n",
       "    </tr>\n",
       "    <tr>\n",
       "      <td>mean</td>\n",
       "      <td>4.575654e-01</td>\n",
       "      <td>1.000318e+00</td>\n",
       "      <td>2.192580e-05</td>\n",
       "      <td>-4.994657e-05</td>\n",
       "      <td>9.994304e-01</td>\n",
       "      <td>-3.713140e-05</td>\n",
       "      <td>-1.972243e-05</td>\n",
       "      <td>9.999744e-01</td>\n",
       "      <td>3.542352e-05</td>\n",
       "      <td>1.001437e+00</td>\n",
       "      <td>-4.878472e-05</td>\n",
       "      <td>1.000360e+00</td>\n",
       "      <td>9.999559e-01</td>\n",
       "      <td>9.999164e-01</td>\n",
       "      <td>1.000422e+00</td>\n",
       "      <td>1.000112e+00</td>\n",
       "      <td>1.000192e+00</td>\n",
       "      <td>9.994852e-01</td>\n",
       "      <td>2.249139e-01</td>\n",
       "    </tr>\n",
       "    <tr>\n",
       "      <td>std</td>\n",
       "      <td>4.981961e-01</td>\n",
       "      <td>6.873341e-01</td>\n",
       "      <td>1.003107e+00</td>\n",
       "      <td>1.001670e+00</td>\n",
       "      <td>6.542200e-01</td>\n",
       "      <td>1.002839e+00</td>\n",
       "      <td>1.001631e+00</td>\n",
       "      <td>8.728877e-01</td>\n",
       "      <td>1.001654e+00</td>\n",
       "      <td>8.901668e-01</td>\n",
       "      <td>1.001594e+00</td>\n",
       "      <td>6.288446e-01</td>\n",
       "      <td>5.841139e-01</td>\n",
       "      <td>4.708406e-01</td>\n",
       "      <td>8.592491e-01</td>\n",
       "      <td>6.207165e-01</td>\n",
       "      <td>6.237672e-01</td>\n",
       "      <td>4.360948e-01</td>\n",
       "      <td>1.969804e-01</td>\n",
       "    </tr>\n",
       "    <tr>\n",
       "      <td>min</td>\n",
       "      <td>0.000000e+00</td>\n",
       "      <td>2.548815e-01</td>\n",
       "      <td>-2.102927e+00</td>\n",
       "      <td>-1.734789e+00</td>\n",
       "      <td>4.285860e-01</td>\n",
       "      <td>-2.059306e+00</td>\n",
       "      <td>-1.734202e+00</td>\n",
       "      <td>2.598711e-04</td>\n",
       "      <td>-1.727117e+00</td>\n",
       "      <td>7.693475e-08</td>\n",
       "      <td>-1.671863e+01</td>\n",
       "      <td>2.673070e-01</td>\n",
       "      <td>1.041228e-03</td>\n",
       "      <td>2.048078e-03</td>\n",
       "      <td>0.000000e+00</td>\n",
       "      <td>2.734135e-02</td>\n",
       "      <td>4.452858e-03</td>\n",
       "      <td>3.211849e-07</td>\n",
       "      <td>4.172130e-08</td>\n",
       "    </tr>\n",
       "    <tr>\n",
       "      <td>25%</td>\n",
       "      <td>0.000000e+00</td>\n",
       "      <td>5.624837e-01</td>\n",
       "      <td>-7.573512e-01</td>\n",
       "      <td>-8.673567e-01</td>\n",
       "      <td>5.969881e-01</td>\n",
       "      <td>-7.695916e-01</td>\n",
       "      <td>-8.683741e-01</td>\n",
       "      <td>4.784546e-01</td>\n",
       "      <td>-8.661510e-01</td>\n",
       "      <td>3.691849e-01</td>\n",
       "      <td>-4.923983e-01</td>\n",
       "      <td>5.883287e-01</td>\n",
       "      <td>6.223411e-01</td>\n",
       "      <td>6.505438e-01</td>\n",
       "      <td>1.705215e-01</td>\n",
       "      <td>5.985209e-01</td>\n",
       "      <td>5.134394e-01</td>\n",
       "      <td>6.879128e-01</td>\n",
       "      <td>6.908188e-02</td>\n",
       "    </tr>\n",
       "    <tr>\n",
       "      <td>50%</td>\n",
       "      <td>0.000000e+00</td>\n",
       "      <td>7.915511e-01</td>\n",
       "      <td>1.342127e-04</td>\n",
       "      <td>-3.880155e-04</td>\n",
       "      <td>7.997993e-01</td>\n",
       "      <td>-3.793710e-04</td>\n",
       "      <td>2.006134e-04</td>\n",
       "      <td>7.738360e-01</td>\n",
       "      <td>-9.172642e-03</td>\n",
       "      <td>8.019273e-01</td>\n",
       "      <td>-8.037898e-02</td>\n",
       "      <td>8.286114e-01</td>\n",
       "      <td>8.781311e-01</td>\n",
       "      <td>9.344703e-01</td>\n",
       "      <td>9.018388e-01</td>\n",
       "      <td>8.355336e-01</td>\n",
       "      <td>9.142514e-01</td>\n",
       "      <td>1.094396e+00</td>\n",
       "      <td>1.672500e-01</td>\n",
       "    </tr>\n",
       "    <tr>\n",
       "      <td>75%</td>\n",
       "      <td>1.000000e+00</td>\n",
       "      <td>1.204413e+00</td>\n",
       "      <td>7.576486e-01</td>\n",
       "      <td>8.670981e-01</td>\n",
       "      <td>1.162353e+00</td>\n",
       "      <td>7.692296e-01</td>\n",
       "      <td>8.674778e-01</td>\n",
       "      <td>1.207444e+00</td>\n",
       "      <td>8.687620e-01</td>\n",
       "      <td>1.375392e+00</td>\n",
       "      <td>3.489009e-01</td>\n",
       "      <td>1.211083e+00</td>\n",
       "      <td>1.220313e+00</td>\n",
       "      <td>1.283522e+00</td>\n",
       "      <td>1.613231e+00</td>\n",
       "      <td>1.207994e+00</td>\n",
       "      <td>1.384583e+00</td>\n",
       "      <td>1.369183e+00</td>\n",
       "      <td>3.303652e-01</td>\n",
       "    </tr>\n",
       "    <tr>\n",
       "      <td>max</td>\n",
       "      <td>1.000000e+00</td>\n",
       "      <td>2.055345e+01</td>\n",
       "      <td>2.101605e+00</td>\n",
       "      <td>1.734839e+00</td>\n",
       "      <td>3.303562e+01</td>\n",
       "      <td>2.059721e+00</td>\n",
       "      <td>1.734686e+00</td>\n",
       "      <td>2.106888e+01</td>\n",
       "      <td>1.740689e+00</td>\n",
       "      <td>2.338644e+01</td>\n",
       "      <td>2.048790e+01</td>\n",
       "      <td>2.107572e+01</td>\n",
       "      <td>1.616682e+01</td>\n",
       "      <td>6.731210e+00</td>\n",
       "      <td>2.068624e+01</td>\n",
       "      <td>2.115226e+01</td>\n",
       "      <td>1.561370e+01</td>\n",
       "      <td>1.591660e+00</td>\n",
       "      <td>1.000000e+00</td>\n",
       "    </tr>\n",
       "  </tbody>\n",
       "</table>\n",
       "</div>"
      ],
      "text/plain": [
       "                 0             1             2             3             4   \\\n",
       "count  5.000000e+06  5.000000e+06  5.000000e+06  5.000000e+06  5.000000e+06   \n",
       "mean   4.575654e-01  1.000318e+00  2.192580e-05 -4.994657e-05  9.994304e-01   \n",
       "std    4.981961e-01  6.873341e-01  1.003107e+00  1.001670e+00  6.542200e-01   \n",
       "min    0.000000e+00  2.548815e-01 -2.102927e+00 -1.734789e+00  4.285860e-01   \n",
       "25%    0.000000e+00  5.624837e-01 -7.573512e-01 -8.673567e-01  5.969881e-01   \n",
       "50%    0.000000e+00  7.915511e-01  1.342127e-04 -3.880155e-04  7.997993e-01   \n",
       "75%    1.000000e+00  1.204413e+00  7.576486e-01  8.670981e-01  1.162353e+00   \n",
       "max    1.000000e+00  2.055345e+01  2.101605e+00  1.734839e+00  3.303562e+01   \n",
       "\n",
       "                 5             6             7             8             9   \\\n",
       "count  5.000000e+06  5.000000e+06  5.000000e+06  5.000000e+06  5.000000e+06   \n",
       "mean  -3.713140e-05 -1.972243e-05  9.999744e-01  3.542352e-05  1.001437e+00   \n",
       "std    1.002839e+00  1.001631e+00  8.728877e-01  1.001654e+00  8.901668e-01   \n",
       "min   -2.059306e+00 -1.734202e+00  2.598711e-04 -1.727117e+00  7.693475e-08   \n",
       "25%   -7.695916e-01 -8.683741e-01  4.784546e-01 -8.661510e-01  3.691849e-01   \n",
       "50%   -3.793710e-04  2.006134e-04  7.738360e-01 -9.172642e-03  8.019273e-01   \n",
       "75%    7.692296e-01  8.674778e-01  1.207444e+00  8.687620e-01  1.375392e+00   \n",
       "max    2.059721e+00  1.734686e+00  2.106888e+01  1.740689e+00  2.338644e+01   \n",
       "\n",
       "                 10            11            12            13            14  \\\n",
       "count  5.000000e+06  5.000000e+06  5.000000e+06  5.000000e+06  5.000000e+06   \n",
       "mean  -4.878472e-05  1.000360e+00  9.999559e-01  9.999164e-01  1.000422e+00   \n",
       "std    1.001594e+00  6.288446e-01  5.841139e-01  4.708406e-01  8.592491e-01   \n",
       "min   -1.671863e+01  2.673070e-01  1.041228e-03  2.048078e-03  0.000000e+00   \n",
       "25%   -4.923983e-01  5.883287e-01  6.223411e-01  6.505438e-01  1.705215e-01   \n",
       "50%   -8.037898e-02  8.286114e-01  8.781311e-01  9.344703e-01  9.018388e-01   \n",
       "75%    3.489009e-01  1.211083e+00  1.220313e+00  1.283522e+00  1.613231e+00   \n",
       "max    2.048790e+01  2.107572e+01  1.616682e+01  6.731210e+00  2.068624e+01   \n",
       "\n",
       "                 15            16            17            18  \n",
       "count  5.000000e+06  5.000000e+06  5.000000e+06  5.000000e+06  \n",
       "mean   1.000112e+00  1.000192e+00  9.994852e-01  2.249139e-01  \n",
       "std    6.207165e-01  6.237672e-01  4.360948e-01  1.969804e-01  \n",
       "min    2.734135e-02  4.452858e-03  3.211849e-07  4.172130e-08  \n",
       "25%    5.985209e-01  5.134394e-01  6.879128e-01  6.908188e-02  \n",
       "50%    8.355336e-01  9.142514e-01  1.094396e+00  1.672500e-01  \n",
       "75%    1.207994e+00  1.384583e+00  1.369183e+00  3.303652e-01  \n",
       "max    2.115226e+01  1.561370e+01  1.591660e+00  1.000000e+00  "
      ]
     },
     "execution_count": 7,
     "metadata": {},
     "output_type": "execute_result"
    }
   ],
   "source": [
    "dataf_susy.describe()"
   ]
  },
  {
   "cell_type": "markdown",
   "metadata": {},
   "source": [
    "'describe()' method is used in order to view some basic statistical details like mean,percentile,std of a data frame or series of numeric values. It return the output as shown above. The parameters of this function are percentile, include and exclude."
   ]
  },
  {
   "cell_type": "code",
   "execution_count": 8,
   "metadata": {
    "colab": {},
    "colab_type": "code",
    "id": "bYkDFMC7ViPG"
   },
   "outputs": [],
   "source": [
    "Features=dataf_susy.drop([0],axis=1)"
   ]
  },
  {
   "cell_type": "markdown",
   "metadata": {},
   "source": [
    "'drop' is used to delete or remove rows from a dataframe with the axis set as shown above. 'axis' helps in identifying from which index the labels have to be dropped.  "
   ]
  },
  {
   "cell_type": "code",
   "execution_count": 9,
   "metadata": {
    "colab": {
     "base_uri": "https://localhost:8080/",
     "height": 206
    },
    "colab_type": "code",
    "id": "PcuxG24cVlQD",
    "outputId": "ad65faf1-cadf-4883-bb94-95a0cfce0a9b"
   },
   "outputs": [
    {
     "data": {
      "text/html": [
       "<div>\n",
       "<style scoped>\n",
       "    .dataframe tbody tr th:only-of-type {\n",
       "        vertical-align: middle;\n",
       "    }\n",
       "\n",
       "    .dataframe tbody tr th {\n",
       "        vertical-align: top;\n",
       "    }\n",
       "\n",
       "    .dataframe thead th {\n",
       "        text-align: right;\n",
       "    }\n",
       "</style>\n",
       "<table border=\"1\" class=\"dataframe\">\n",
       "  <thead>\n",
       "    <tr style=\"text-align: right;\">\n",
       "      <th></th>\n",
       "      <th>1</th>\n",
       "      <th>2</th>\n",
       "      <th>3</th>\n",
       "      <th>4</th>\n",
       "      <th>5</th>\n",
       "      <th>6</th>\n",
       "      <th>7</th>\n",
       "      <th>8</th>\n",
       "      <th>9</th>\n",
       "      <th>10</th>\n",
       "      <th>11</th>\n",
       "      <th>12</th>\n",
       "      <th>13</th>\n",
       "      <th>14</th>\n",
       "      <th>15</th>\n",
       "      <th>16</th>\n",
       "      <th>17</th>\n",
       "      <th>18</th>\n",
       "    </tr>\n",
       "  </thead>\n",
       "  <tbody>\n",
       "    <tr>\n",
       "      <td>0</td>\n",
       "      <td>0.972861</td>\n",
       "      <td>0.653855</td>\n",
       "      <td>1.176225</td>\n",
       "      <td>1.157156</td>\n",
       "      <td>-1.739873</td>\n",
       "      <td>-0.874309</td>\n",
       "      <td>0.567765</td>\n",
       "      <td>-0.175000</td>\n",
       "      <td>0.810061</td>\n",
       "      <td>-0.252552</td>\n",
       "      <td>1.921887</td>\n",
       "      <td>0.889637</td>\n",
       "      <td>0.410772</td>\n",
       "      <td>1.145621</td>\n",
       "      <td>1.932632</td>\n",
       "      <td>0.994464</td>\n",
       "      <td>1.367815</td>\n",
       "      <td>0.040714</td>\n",
       "    </tr>\n",
       "    <tr>\n",
       "      <td>1</td>\n",
       "      <td>1.667973</td>\n",
       "      <td>0.064191</td>\n",
       "      <td>-1.225171</td>\n",
       "      <td>0.506102</td>\n",
       "      <td>-0.338939</td>\n",
       "      <td>1.672543</td>\n",
       "      <td>3.475464</td>\n",
       "      <td>-1.219136</td>\n",
       "      <td>0.012955</td>\n",
       "      <td>3.775174</td>\n",
       "      <td>1.045977</td>\n",
       "      <td>0.568051</td>\n",
       "      <td>0.481928</td>\n",
       "      <td>0.000000</td>\n",
       "      <td>0.448410</td>\n",
       "      <td>0.205356</td>\n",
       "      <td>1.321893</td>\n",
       "      <td>0.377584</td>\n",
       "    </tr>\n",
       "    <tr>\n",
       "      <td>2</td>\n",
       "      <td>0.444840</td>\n",
       "      <td>-0.134298</td>\n",
       "      <td>-0.709972</td>\n",
       "      <td>0.451719</td>\n",
       "      <td>-1.613871</td>\n",
       "      <td>-0.768661</td>\n",
       "      <td>1.219918</td>\n",
       "      <td>0.504026</td>\n",
       "      <td>1.831248</td>\n",
       "      <td>-0.431385</td>\n",
       "      <td>0.526283</td>\n",
       "      <td>0.941514</td>\n",
       "      <td>1.587535</td>\n",
       "      <td>2.024308</td>\n",
       "      <td>0.603498</td>\n",
       "      <td>1.562374</td>\n",
       "      <td>1.135454</td>\n",
       "      <td>0.180910</td>\n",
       "    </tr>\n",
       "    <tr>\n",
       "      <td>3</td>\n",
       "      <td>0.381256</td>\n",
       "      <td>-0.976145</td>\n",
       "      <td>0.693152</td>\n",
       "      <td>0.448959</td>\n",
       "      <td>0.891753</td>\n",
       "      <td>-0.677328</td>\n",
       "      <td>2.033060</td>\n",
       "      <td>1.533041</td>\n",
       "      <td>3.046260</td>\n",
       "      <td>-1.005285</td>\n",
       "      <td>0.569386</td>\n",
       "      <td>1.015211</td>\n",
       "      <td>1.582217</td>\n",
       "      <td>1.551914</td>\n",
       "      <td>0.761215</td>\n",
       "      <td>1.715464</td>\n",
       "      <td>1.492257</td>\n",
       "      <td>0.090719</td>\n",
       "    </tr>\n",
       "    <tr>\n",
       "      <td>4</td>\n",
       "      <td>1.309996</td>\n",
       "      <td>-0.690089</td>\n",
       "      <td>-0.676259</td>\n",
       "      <td>1.589283</td>\n",
       "      <td>-0.693326</td>\n",
       "      <td>0.622907</td>\n",
       "      <td>1.087562</td>\n",
       "      <td>-0.381742</td>\n",
       "      <td>0.589204</td>\n",
       "      <td>1.365479</td>\n",
       "      <td>1.179295</td>\n",
       "      <td>0.968218</td>\n",
       "      <td>0.728563</td>\n",
       "      <td>0.000000</td>\n",
       "      <td>1.083158</td>\n",
       "      <td>0.043429</td>\n",
       "      <td>1.154854</td>\n",
       "      <td>0.094859</td>\n",
       "    </tr>\n",
       "  </tbody>\n",
       "</table>\n",
       "</div>"
      ],
      "text/plain": [
       "         1         2         3         4         5         6         7   \\\n",
       "0  0.972861  0.653855  1.176225  1.157156 -1.739873 -0.874309  0.567765   \n",
       "1  1.667973  0.064191 -1.225171  0.506102 -0.338939  1.672543  3.475464   \n",
       "2  0.444840 -0.134298 -0.709972  0.451719 -1.613871 -0.768661  1.219918   \n",
       "3  0.381256 -0.976145  0.693152  0.448959  0.891753 -0.677328  2.033060   \n",
       "4  1.309996 -0.690089 -0.676259  1.589283 -0.693326  0.622907  1.087562   \n",
       "\n",
       "         8         9         10        11        12        13        14  \\\n",
       "0 -0.175000  0.810061 -0.252552  1.921887  0.889637  0.410772  1.145621   \n",
       "1 -1.219136  0.012955  3.775174  1.045977  0.568051  0.481928  0.000000   \n",
       "2  0.504026  1.831248 -0.431385  0.526283  0.941514  1.587535  2.024308   \n",
       "3  1.533041  3.046260 -1.005285  0.569386  1.015211  1.582217  1.551914   \n",
       "4 -0.381742  0.589204  1.365479  1.179295  0.968218  0.728563  0.000000   \n",
       "\n",
       "         15        16        17        18  \n",
       "0  1.932632  0.994464  1.367815  0.040714  \n",
       "1  0.448410  0.205356  1.321893  0.377584  \n",
       "2  0.603498  1.562374  1.135454  0.180910  \n",
       "3  0.761215  1.715464  1.492257  0.090719  \n",
       "4  1.083158  0.043429  1.154854  0.094859  "
      ]
     },
     "execution_count": 9,
     "metadata": {},
     "output_type": "execute_result"
    }
   ],
   "source": [
    "Features.head()"
   ]
  },
  {
   "cell_type": "markdown",
   "metadata": {},
   "source": [
    "Here,'head()' method is used to return top n rows of a data frame or series for 'Features'.It returns the required output as shown above."
   ]
  },
  {
   "cell_type": "code",
   "execution_count": 10,
   "metadata": {
    "colab": {},
    "colab_type": "code",
    "id": "zF4tFjeUVnEu"
   },
   "outputs": [],
   "source": [
    "Labels=dataf_susy[0]"
   ]
  },
  {
   "cell_type": "code",
   "execution_count": 11,
   "metadata": {
    "colab": {
     "base_uri": "https://localhost:8080/",
     "height": 126
    },
    "colab_type": "code",
    "id": "l9z4E0QiVqA7",
    "outputId": "8b7f407b-09ae-46c4-ad01-9af16bd55192"
   },
   "outputs": [
    {
     "data": {
      "text/plain": [
       "0    0.0\n",
       "1    1.0\n",
       "2    1.0\n",
       "3    1.0\n",
       "4    1.0\n",
       "Name: 0, dtype: float64"
      ]
     },
     "execution_count": 11,
     "metadata": {},
     "output_type": "execute_result"
    }
   ],
   "source": [
    "Labels.head()"
   ]
  },
  {
   "cell_type": "markdown",
   "metadata": {},
   "source": [
    "In the above cell, one can observe clearly that the values other than 0 have all been given the value of 1.0. The classifier is such that the class label 1 denotes presence of the particle and 0 denotes its absence."
   ]
  },
  {
   "cell_type": "code",
   "execution_count": 12,
   "metadata": {
    "colab": {
     "base_uri": "https://localhost:8080/",
     "height": 35
    },
    "colab_type": "code",
    "id": "klm9PrXPVsxr",
    "outputId": "671af758-af0c-4f5e-9eca-485e63f93d04"
   },
   "outputs": [
    {
     "name": "stdout",
     "output_type": "stream",
     "text": [
      "(5000000, 18) (5000000,)\n"
     ]
    }
   ],
   "source": [
    "print(Features.shape , Labels.shape)"
   ]
  },
  {
   "cell_type": "markdown",
   "metadata": {},
   "source": [
    "'Features.shape' is used to return shape of dataframe and series. the result of it is shown above. "
   ]
  },
  {
   "cell_type": "markdown",
   "metadata": {},
   "source": [
    "1.2 ANS)"
   ]
  },
  {
   "cell_type": "code",
   "execution_count": 13,
   "metadata": {
    "colab": {},
    "colab_type": "code",
    "id": "-Ty6u8bZVv6w"
   },
   "outputs": [],
   "source": [
    "from sklearn.tree import DecisionTreeClassifier \n",
    "from sklearn.model_selection import train_test_split,StratifiedKFold,cross_validate\n",
    "from sklearn.metrics import confusion_matrix, accuracy_score, precision_score, recall_score, f1_score, roc_auc_score, make_scorer"
   ]
  },
  {
   "cell_type": "markdown",
   "metadata": {},
   "source": [
    "The required packages are imported from sklearn"
   ]
  },
  {
   "cell_type": "code",
   "execution_count": 14,
   "metadata": {
    "colab": {},
    "colab_type": "code",
    "id": "eMONouhQV0nE"
   },
   "outputs": [],
   "source": [
    "x_train,x_test,y_train,y_test=train_test_split(Features,Labels,test_size=0.333,random_state=1,shuffle=True)"
   ]
  },
  {
   "cell_type": "markdown",
   "metadata": {},
   "source": [
    "'train_test_split' is used to split arrays or matrices into random train and test subsets. The parameters used are shown above. test_size is given 0.333 as 33.33% is provided for testing and the other for training. 'random_state' is the seed used by the random number generator. 'shuffle' is used to determine whether or not to shuffle the data before splitting."
   ]
  },
  {
   "cell_type": "code",
   "execution_count": 15,
   "metadata": {
    "colab": {
     "base_uri": "https://localhost:8080/",
     "height": 35
    },
    "colab_type": "code",
    "id": "9indmA9fXz1j",
    "outputId": "efe38408-a46a-4db2-d3b3-ae1fce7fa47e"
   },
   "outputs": [
    {
     "name": "stdout",
     "output_type": "stream",
     "text": [
      "(3335000, 18) (1665000, 18) (3335000,) (1665000,)\n"
     ]
    }
   ],
   "source": [
    "print(x_train.shape,x_test.shape,y_train.shape,y_test.shape)"
   ]
  },
  {
   "cell_type": "markdown",
   "metadata": {},
   "source": [
    "This provides the number value of data which would be trained and which would be tested."
   ]
  },
  {
   "cell_type": "code",
   "execution_count": null,
   "metadata": {
    "colab": {},
    "colab_type": "code",
    "id": "ppTMQp4fYBW0"
   },
   "outputs": [],
   "source": []
  },
  {
   "cell_type": "code",
   "execution_count": 16,
   "metadata": {
    "colab": {
     "base_uri": "https://localhost:8080/",
     "height": 53
    },
    "colab_type": "code",
    "id": "LP_U8TvJYW6G",
    "outputId": "5f0532fe-8cb6-4368-f362-5bcfed69b2f9"
   },
   "outputs": [
    {
     "name": "stdout",
     "output_type": "stream",
     "text": [
      "0.67\n",
      "0.33\n"
     ]
    }
   ],
   "source": [
    "for dataset in [y_train,y_test]:\n",
    "    print(round(len(dataset) / len(Labels), 2))"
   ]
  },
  {
   "cell_type": "markdown",
   "metadata": {},
   "source": [
    "This provides the inforamtion of the percentage of the data which would be used for traning and testing respectively."
   ]
  },
  {
   "cell_type": "code",
   "execution_count": 17,
   "metadata": {
    "colab": {},
    "colab_type": "code",
    "id": "dsy3xrEMYoq-"
   },
   "outputs": [],
   "source": [
    "DT_Susy_model = DecisionTreeClassifier(criterion=\"gini\", random_state=1)"
   ]
  },
  {
   "cell_type": "markdown",
   "metadata": {},
   "source": [
    "Decision Tree Classifier in Python using Scikit-learn. Decision Trees can be used as classifier or regression models."
   ]
  },
  {
   "cell_type": "code",
   "execution_count": 18,
   "metadata": {
    "colab": {
     "base_uri": "https://localhost:8080/",
     "height": 171
    },
    "colab_type": "code",
    "id": "nnnqtAOXY4JG",
    "outputId": "c38d1d5b-3912-4134-9df7-cfd9754e1e90"
   },
   "outputs": [
    {
     "data": {
      "text/plain": [
       "DecisionTreeClassifier(class_weight=None, criterion='gini', max_depth=None,\n",
       "                       max_features=None, max_leaf_nodes=None,\n",
       "                       min_impurity_decrease=0.0, min_impurity_split=None,\n",
       "                       min_samples_leaf=1, min_samples_split=2,\n",
       "                       min_weight_fraction_leaf=0.0, presort=False,\n",
       "                       random_state=1, splitter='best')"
      ]
     },
     "execution_count": 18,
     "metadata": {},
     "output_type": "execute_result"
    }
   ],
   "source": [
    "DT_Susy_model.fit(x_train, y_train)"
   ]
  },
  {
   "cell_type": "markdown",
   "metadata": {},
   "source": [
    "In the aabove cell,an estimator for classification is a Python object that implements the methods fit(X, y)"
   ]
  },
  {
   "cell_type": "code",
   "execution_count": 19,
   "metadata": {
    "colab": {
     "base_uri": "https://localhost:8080/",
     "height": 171
    },
    "colab_type": "code",
    "id": "fzPVnhQ2Y8vG",
    "outputId": "1db9d6cf-63d6-4989-ee7d-9181e51317cc"
   },
   "outputs": [],
   "source": [
    "Predictions=DT_Susy_model.predict(x_test)"
   ]
  },
  {
   "cell_type": "markdown",
   "metadata": {},
   "source": [
    "'predict' can be used to predict for the x_test. "
   ]
  },
  {
   "cell_type": "code",
   "execution_count": 20,
   "metadata": {
    "colab": {
     "base_uri": "https://localhost:8080/",
     "height": 35
    },
    "colab_type": "code",
    "id": "Vrsf__8Dbdtt",
    "outputId": "bd8d99e6-f49b-49ba-857a-6048b2d4daaa"
   },
   "outputs": [
    {
     "data": {
      "text/plain": [
       "0.7160342342342342"
      ]
     },
     "execution_count": 20,
     "metadata": {},
     "output_type": "execute_result"
    }
   ],
   "source": [
    "DT_Susy_model.score(x_test,y_test)"
   ]
  },
  {
   "cell_type": "markdown",
   "metadata": {},
   "source": [
    "This provides the value of the result of test."
   ]
  },
  {
   "cell_type": "code",
   "execution_count": 21,
   "metadata": {
    "colab": {},
    "colab_type": "code",
    "id": "02lE265mbo38"
   },
   "outputs": [],
   "source": [
    "nfolds = 10\n",
    "def tn(y_true, Predictions): \n",
    "\treturn confusion_matrix(y_true, Predictions)[0, 0]\n",
    "def fp(y_true, Predictions): \n",
    "\treturn confusion_matrix(y_true, Predictions)[0, 1]\n",
    "def fn(y_true, Predictions): \n",
    "\treturn confusion_matrix(y_true, Predictions)[1, 0]\n",
    "def tp(y_true, Predictions): \n",
    "\treturn confusion_matrix(y_true, Predictions)[1, 1]"
   ]
  },
  {
   "cell_type": "markdown",
   "metadata": {},
   "source": [
    "'nfolds' is used to specify the number of folds to use for k-fold cross-validation. Where K-fold cross-validation is used to validate a model internally.A confusion matrix is a matrix, which can be used to measure the performance of an machine learning algorithm. It can be also said that it is a table that is often used to describe the performance of a classification model which is also known as a classifier, on a set of test data for which the true values are known. Majority of the performance measures are computed from the confusion matrix."
   ]
  },
  {
   "cell_type": "code",
   "execution_count": 22,
   "metadata": {
    "colab": {},
    "colab_type": "code",
    "id": "jL17BXNGb9Kr"
   },
   "outputs": [],
   "source": [
    "scoring = {'tp': make_scorer(tp), 'tn': make_scorer(tn),\n",
    "           'fp': make_scorer(fp), 'fn': make_scorer(fn),\n",
    "           'ac' : make_scorer(accuracy_score),\n",
    "           're' : make_scorer(recall_score),\n",
    "           'pr' : make_scorer(precision_score),\n",
    "           'f1' : make_scorer(f1_score),\n",
    "           'auc' : make_scorer(roc_auc_score),\n",
    "          } "
   ]
  },
  {
   "cell_type": "markdown",
   "metadata": {},
   "source": [
    "'make_scorer' is used for converting into a scorer object. the required paramters are shown above."
   ]
  },
  {
   "cell_type": "code",
   "execution_count": 23,
   "metadata": {
    "colab": {
     "base_uri": "https://localhost:8080/",
     "height": 171
    },
    "colab_type": "code",
    "id": "xS6IiyzCddwy",
    "outputId": "4415392a-b45a-4d5c-a866-7d244be693ca"
   },
   "outputs": [],
   "source": [
    "cv_results = cross_validate(DT_Susy_model, x_train, y_train, scoring=scoring, cv=StratifiedKFold(n_splits=nfolds, random_state=1))"
   ]
  },
  {
   "cell_type": "markdown",
   "metadata": {},
   "source": [
    "Cross validation is done using 'cross_validate'. Cross validation is a technique in which we train our model using the subset of the dataset and then evaluate using the complementary subset of the dataset.\n",
    "The object to use to fit the data is DT_Susy_model.'cv' is used to determine the crossvalidation splitting strategy. "
   ]
  },
  {
   "cell_type": "code",
   "execution_count": 24,
   "metadata": {
    "colab": {
     "base_uri": "https://localhost:8080/",
     "height": 290
    },
    "colab_type": "code",
    "id": "LdHEQgYEdw9j",
    "outputId": "adfd4f55-439e-4780-d122-0e105c3ec56b"
   },
   "outputs": [
    {
     "name": "stdout",
     "output_type": "stream",
     "text": [
      "Cross Validation scores (nfolds = 10):\n",
      "tp:  [105479 106151 106098 106086 106218 105734 106060 106445 105873 106005] ; mean: 106014.9\n",
      "fn:  [47074 46402 46455 46466 46334 46818 46492 46107 46679 46547] ; mean: 46537.4\n",
      "fp:  [48568 48301 48653 48155 48215 48722 48211 48451 48194 48217] ; mean: 48368.7\n",
      "tn:  [132380 132647 132295 132793 132733 132226 132737 132496 132753 132730] ; mean: 132579.0\n",
      "ac:  [0.71321825 0.71603383 0.71481945 0.71627886 0.71649475 0.71352324\n",
      " 0.71603298 0.71646692 0.71552239 0.71584922] ; mean: 0.71542398913553\n",
      "re:  [0.69142528 0.6958303  0.69548288 0.69540878 0.69627406 0.69310137\n",
      " 0.69523834 0.69776207 0.69401253 0.69487781] ; mean: 0.6949413427955988\n",
      "pr:  [0.6847196  0.68727501 0.68560462 0.68779378 0.68779341 0.68455741\n",
      " 0.68749149 0.68720303 0.68718804 0.6873533 ] ; mean: 0.6866979685984282\n",
      "f1:  [0.6880561  0.6915262  0.69050842 0.69158032 0.69200775 0.6888029\n",
      " 0.69134322 0.6924423  0.69058343 0.69109507] ; mean: 0.6907945701755819\n",
      "auc:  [0.71150834 0.71444863 0.71330226 0.7146413  0.71490815 0.71192085\n",
      " 0.71440134 0.71499929 0.71383468 0.71420376] ; mean: 0.7138168590934456\n"
     ]
    }
   ],
   "source": [
    "print('Cross Validation scores (nfolds = %d):'% nfolds)\n",
    "print('tp: ', cv_results['test_tp'], '; mean:', cv_results['test_tp'].mean())\n",
    "print('fn: ', cv_results['test_fn'], '; mean:', cv_results['test_fn'].mean())\n",
    "print('fp: ', cv_results['test_fp'], '; mean:', cv_results['test_fp'].mean())\n",
    "print('tn: ', cv_results['test_tn'], '; mean:', cv_results['test_tn'].mean())\n",
    "print('ac: ', cv_results['test_ac'], '; mean:', cv_results['test_ac'].mean())\n",
    "print('re: ', cv_results['test_re'], '; mean:', cv_results['test_re'].mean())\n",
    "print('pr: ', cv_results['test_pr'], '; mean:', cv_results['test_pr'].mean())\n",
    "print('f1: ', cv_results['test_f1'], '; mean:', cv_results['test_f1'].mean())\n",
    "print('auc: ', cv_results['test_auc'], '; mean:', cv_results['test_auc'].mean())"
   ]
  },
  {
   "cell_type": "markdown",
   "metadata": {},
   "source": [
    "'cv_resluts' is a dict with keys as column headers and values as columns which can be imported into a pandas dataframe. "
   ]
  },
  {
   "cell_type": "markdown",
   "metadata": {},
   "source": [
    "1.3 ANS)"
   ]
  },
  {
   "cell_type": "code",
   "execution_count": 35,
   "metadata": {
    "colab": {},
    "colab_type": "code",
    "id": "Lf4PRYKeedxm"
   },
   "outputs": [],
   "source": [
    "from sklearn.ensemble import BaggingClassifier "
   ]
  },
  {
   "cell_type": "code",
   "execution_count": 36,
   "metadata": {
    "colab": {},
    "colab_type": "code",
    "id": "2rld5f8sOcSr"
   },
   "outputs": [],
   "source": [
    "BGCModel = BaggingClassifier(base_estimator=DT_Susy_model,n_estimators=10,random_state=1)"
   ]
  },
  {
   "cell_type": "markdown",
   "metadata": {},
   "source": [
    "Baggingclassifier is an ensemble meta-estimator that fits base classifiers each on random subsets of the original dataset and then aggregate their individual predictions with the help of voting or averaging, to form a final prediction. Such a meta-estimator can typically be used as a way to reduce the variance of a black-box estimator such as a decision tree, by introducing randomization into its construction procedure and then making an ensemble out of it.\n",
    "The'base_estimator' is used in order to fit on random subsets of the dataset. 'n_estimators' is used to find the number of base estimators in the ensemble. "
   ]
  },
  {
   "cell_type": "code",
   "execution_count": 37,
   "metadata": {
    "colab": {
     "base_uri": "https://localhost:8080/",
     "height": 171
    },
    "colab_type": "code",
    "id": "mBh5-HpTt78K",
    "outputId": "3e3ff1c2-604a-4aac-db5b-6841c59ee21e"
   },
   "outputs": [
    {
     "data": {
      "text/plain": [
       "BaggingClassifier(base_estimator=DecisionTreeClassifier(class_weight=None,\n",
       "                                                        criterion='gini',\n",
       "                                                        max_depth=None,\n",
       "                                                        max_features=None,\n",
       "                                                        max_leaf_nodes=None,\n",
       "                                                        min_impurity_decrease=0.0,\n",
       "                                                        min_impurity_split=None,\n",
       "                                                        min_samples_leaf=1,\n",
       "                                                        min_samples_split=2,\n",
       "                                                        min_weight_fraction_leaf=0.0,\n",
       "                                                        presort=False,\n",
       "                                                        random_state=1,\n",
       "                                                        splitter='best'),\n",
       "                  bootstrap=True, bootstrap_features=False, max_features=1.0,\n",
       "                  max_samples=1.0, n_estimators=10, n_jobs=None,\n",
       "                  oob_score=False, random_state=1, verbose=0, warm_start=False)"
      ]
     },
     "execution_count": 37,
     "metadata": {},
     "output_type": "execute_result"
    }
   ],
   "source": [
    "BGCModel.fit(x_train,y_train)"
   ]
  },
  {
   "cell_type": "markdown",
   "metadata": {},
   "source": [
    "In the above cell,an estimator for classification is a Python object that implements the methods fit(X, y)"
   ]
  },
  {
   "cell_type": "code",
   "execution_count": 38,
   "metadata": {
    "colab": {
     "base_uri": "https://localhost:8080/",
     "height": 171
    },
    "colab_type": "code",
    "id": "xcckibtjuM2g",
    "outputId": "449b2954-a79b-4519-d310-b1689c7f27a4"
   },
   "outputs": [],
   "source": [
    "Predictions=BGCModel.predict(x_test)"
   ]
  },
  {
   "cell_type": "markdown",
   "metadata": {},
   "source": [
    "'predict' can be used to predict for the x_test. "
   ]
  },
  {
   "cell_type": "code",
   "execution_count": 39,
   "metadata": {
    "colab": {
     "base_uri": "https://localhost:8080/",
     "height": 171
    },
    "colab_type": "code",
    "id": "n9Ax4WZdte0v",
    "outputId": "5f902d1a-a332-488c-b8ef-fcb8cade71f6"
   },
   "outputs": [
    {
     "data": {
      "text/plain": [
       "0.7832516516516517"
      ]
     },
     "execution_count": 39,
     "metadata": {},
     "output_type": "execute_result"
    }
   ],
   "source": [
    "BGCModel.score(x_test,y_test)"
   ]
  },
  {
   "cell_type": "markdown",
   "metadata": {},
   "source": [
    "The above cell provides the value of the result of test."
   ]
  },
  {
   "cell_type": "code",
   "execution_count": 40,
   "metadata": {
    "colab": {},
    "colab_type": "code",
    "id": "1xmEV2mRtmJ4"
   },
   "outputs": [],
   "source": [
    "nfolds = 10\n",
    "def tn(y_true, Predictions): \n",
    "\treturn confusion_matrix(y_true, Predictions)[0, 0]\n",
    "def fp(y_true, Predictions): \n",
    "\treturn confusion_matrix(y_true, Predictions)[0, 1]\n",
    "def fn(y_true, Predictions): \n",
    "\treturn confusion_matrix(y_true, Predictions)[1, 0]\n",
    "def tp(y_true, Predictions): \n",
    "\treturn confusion_matrix(y_true, Predictions)[1, 1]"
   ]
  },
  {
   "cell_type": "markdown",
   "metadata": {},
   "source": [
    "'nfolds' is used to specify the number of folds to use for k-fold cross-validation.As explained before.A confusion matrix is a matrix, which can be used to measure the performance of an machine learning algorithm. It can be also said that it is a table that is often used to describe the performance of a classification model which is also known as a classifier, on a set of test data for which the true values are known. Majority of the performance measures are computed from the confusion matrix."
   ]
  },
  {
   "cell_type": "code",
   "execution_count": 41,
   "metadata": {
    "colab": {},
    "colab_type": "code",
    "id": "70Njt_-uuGT3"
   },
   "outputs": [],
   "source": [
    "scoring = {'tp': make_scorer(tp), 'tn': make_scorer(tn),\n",
    "           'fp': make_scorer(fp), 'fn': make_scorer(fn),\n",
    "           'ac' : make_scorer(accuracy_score),\n",
    "           're' : make_scorer(recall_score),\n",
    "           'pr' : make_scorer(precision_score),\n",
    "           'f1' : make_scorer(f1_score),\n",
    "           'auc' : make_scorer(roc_auc_score),\n",
    "          } "
   ]
  },
  {
   "cell_type": "markdown",
   "metadata": {},
   "source": [
    "'make_scorer' is used for converting into a scorer object. the required paramters are shown above."
   ]
  },
  {
   "cell_type": "code",
   "execution_count": 42,
   "metadata": {
    "colab": {
     "base_uri": "https://localhost:8080/",
     "height": 171
    },
    "colab_type": "code",
    "id": "9dIbikdHuIMC",
    "outputId": "eaf392b3-5605-4dbf-ff05-8450199783b9"
   },
   "outputs": [],
   "source": [
    "cv_results = cross_validate(BGCModel, x_train, y_train, scoring=scoring, cv=StratifiedKFold(n_splits=nfolds, random_state=1))"
   ]
  },
  {
   "cell_type": "markdown",
   "metadata": {},
   "source": [
    "Cross validation is done using 'cross_validate'. Cross validation is a technique in which we train our model using the subset of the dataset and then evaluate using the complementary subset of the dataset.\n",
    "The object to use to fit the data is DT_Susy_model.'cv' is used to determine the crossvalidation splitting strategy. "
   ]
  },
  {
   "cell_type": "code",
   "execution_count": 43,
   "metadata": {
    "colab": {
     "base_uri": "https://localhost:8080/",
     "height": 243
    },
    "colab_type": "code",
    "id": "SDqR-TLCuMbX",
    "outputId": "f288c78a-f996-4144-a341-522c3d2116ad"
   },
   "outputs": [
    {
     "name": "stdout",
     "output_type": "stream",
     "text": [
      "Cross Validation scores (nfolds = 10):\n",
      "tp:  [103542 103952 103754 103636 104059 103610 103470 104122 103905 103658] ; mean: 103770.8\n",
      "fn:  [49011 48601 48799 48916 48493 48942 49082 48430 48647 48894] ; mean: 48781.5\n",
      "fp:  [23479 23704 23801 23717 23764 23624 23529 23666 23541 23539] ; mean: 23636.4\n",
      "tn:  [157469 157244 157147 157231 157184 157324 157419 157281 157406 157408] ; mean: 157311.3\n",
      "ac:  [0.78263933 0.78319405 0.7823095  0.7822099  0.78333733 0.78241079\n",
      " 0.78227586 0.78381944 0.78354358 0.78280894] ; mean: 0.7828548731721382\n",
      "re:  [0.67872805 0.68141564 0.68011773 0.67934868 0.68212151 0.67917825\n",
      " 0.67826053 0.68253448 0.68111201 0.67949289] ; mean: 0.680230976806979\n",
      "pr:  [0.81515655 0.81431347 0.81340598 0.8137696  0.81408667 0.81432636\n",
      " 0.81473082 0.81480264 0.81528647 0.8149406 ] ; mean: 0.8144819169894024\n",
      "f1:  [0.74071266 0.74196047 0.74081426 0.74050839 0.74228444 0.74063749\n",
      " 0.74025849 0.74282657 0.74218387 0.74107861] ; mean: 0.7413265228907384\n",
      "auc:  [0.77448627 0.77520834 0.77429135 0.77413894 0.77539548 0.7743107\n",
      " 0.77411435 0.7758724  0.77550657 0.77470254] ; mean: 0.7748026938502578\n"
     ]
    }
   ],
   "source": [
    "print('Cross Validation scores (nfolds = %d):'% nfolds)\n",
    "print('tp: ', cv_results['test_tp'], '; mean:', cv_results['test_tp'].mean())\n",
    "print('fn: ', cv_results['test_fn'], '; mean:', cv_results['test_fn'].mean())\n",
    "print('fp: ', cv_results['test_fp'], '; mean:', cv_results['test_fp'].mean())\n",
    "print('tn: ', cv_results['test_tn'], '; mean:', cv_results['test_tn'].mean())\n",
    "print('ac: ', cv_results['test_ac'], '; mean:', cv_results['test_ac'].mean())\n",
    "print('re: ', cv_results['test_re'], '; mean:', cv_results['test_re'].mean())\n",
    "print('pr: ', cv_results['test_pr'], '; mean:', cv_results['test_pr'].mean())\n",
    "print('f1: ', cv_results['test_f1'], '; mean:', cv_results['test_f1'].mean())\n",
    "print('auc: ', cv_results['test_auc'], '; mean:', cv_results['test_auc'].mean())"
   ]
  },
  {
   "cell_type": "markdown",
   "metadata": {
    "colab": {},
    "colab_type": "code",
    "id": "7bEzndueJW_Z"
   },
   "source": [
    "'cv_resluts' is a dict with keys as column headers and values as columns which can be imported into a pandas dataframe. "
   ]
  }
 ],
 "metadata": {
  "colab": {
   "collapsed_sections": [],
   "name": "DTandBDT.ipynb",
   "provenance": []
  },
  "kernelspec": {
   "display_name": "Python 3",
   "language": "python",
   "name": "python3"
  },
  "language_info": {
   "codemirror_mode": {
    "name": "ipython",
    "version": 3
   },
   "file_extension": ".py",
   "mimetype": "text/x-python",
   "name": "python",
   "nbconvert_exporter": "python",
   "pygments_lexer": "ipython3",
   "version": "3.7.4"
  }
 },
 "nbformat": 4,
 "nbformat_minor": 1
}
